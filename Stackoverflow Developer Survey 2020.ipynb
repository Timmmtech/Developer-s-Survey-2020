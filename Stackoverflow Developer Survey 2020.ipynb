{
 "cells": [
  {
   "cell_type": "code",
   "execution_count": 1,
   "id": "aba3d16c",
   "metadata": {},
   "outputs": [],
   "source": [
    "import pandas as pd"
   ]
  },
  {
   "cell_type": "code",
   "execution_count": 2,
   "id": "de79701f",
   "metadata": {},
   "outputs": [],
   "source": [
    "survey_raw_df = pd.read_csv('C:\\\\Users\\\\AZUS\\Desktop\\\\stack-overflow-developer-survey-2020\\\\survey_results_public.csv')"
   ]
  },
  {
   "cell_type": "code",
   "execution_count": 3,
   "id": "edc41b48",
   "metadata": {},
   "outputs": [
    {
     "data": {
      "text/html": [
       "<div>\n",
       "<style scoped>\n",
       "    .dataframe tbody tr th:only-of-type {\n",
       "        vertical-align: middle;\n",
       "    }\n",
       "\n",
       "    .dataframe tbody tr th {\n",
       "        vertical-align: top;\n",
       "    }\n",
       "\n",
       "    .dataframe thead th {\n",
       "        text-align: right;\n",
       "    }\n",
       "</style>\n",
       "<table border=\"1\" class=\"dataframe\">\n",
       "  <thead>\n",
       "    <tr style=\"text-align: right;\">\n",
       "      <th></th>\n",
       "      <th>Respondent</th>\n",
       "      <th>MainBranch</th>\n",
       "      <th>Hobbyist</th>\n",
       "      <th>Age</th>\n",
       "      <th>Age1stCode</th>\n",
       "      <th>CompFreq</th>\n",
       "      <th>CompTotal</th>\n",
       "      <th>ConvertedComp</th>\n",
       "      <th>Country</th>\n",
       "      <th>CurrencyDesc</th>\n",
       "      <th>...</th>\n",
       "      <th>SurveyEase</th>\n",
       "      <th>SurveyLength</th>\n",
       "      <th>Trans</th>\n",
       "      <th>UndergradMajor</th>\n",
       "      <th>WebframeDesireNextYear</th>\n",
       "      <th>WebframeWorkedWith</th>\n",
       "      <th>WelcomeChange</th>\n",
       "      <th>WorkWeekHrs</th>\n",
       "      <th>YearsCode</th>\n",
       "      <th>YearsCodePro</th>\n",
       "    </tr>\n",
       "  </thead>\n",
       "  <tbody>\n",
       "    <tr>\n",
       "      <th>0</th>\n",
       "      <td>1</td>\n",
       "      <td>I am a developer by profession</td>\n",
       "      <td>Yes</td>\n",
       "      <td>NaN</td>\n",
       "      <td>13</td>\n",
       "      <td>Monthly</td>\n",
       "      <td>NaN</td>\n",
       "      <td>NaN</td>\n",
       "      <td>Germany</td>\n",
       "      <td>European Euro</td>\n",
       "      <td>...</td>\n",
       "      <td>Neither easy nor difficult</td>\n",
       "      <td>Appropriate in length</td>\n",
       "      <td>No</td>\n",
       "      <td>Computer science, computer engineering, or sof...</td>\n",
       "      <td>ASP.NET Core</td>\n",
       "      <td>ASP.NET;ASP.NET Core</td>\n",
       "      <td>Just as welcome now as I felt last year</td>\n",
       "      <td>50.0</td>\n",
       "      <td>36</td>\n",
       "      <td>27</td>\n",
       "    </tr>\n",
       "    <tr>\n",
       "      <th>1</th>\n",
       "      <td>2</td>\n",
       "      <td>I am a developer by profession</td>\n",
       "      <td>No</td>\n",
       "      <td>NaN</td>\n",
       "      <td>19</td>\n",
       "      <td>NaN</td>\n",
       "      <td>NaN</td>\n",
       "      <td>NaN</td>\n",
       "      <td>United Kingdom</td>\n",
       "      <td>Pound sterling</td>\n",
       "      <td>...</td>\n",
       "      <td>NaN</td>\n",
       "      <td>NaN</td>\n",
       "      <td>NaN</td>\n",
       "      <td>Computer science, computer engineering, or sof...</td>\n",
       "      <td>NaN</td>\n",
       "      <td>NaN</td>\n",
       "      <td>Somewhat more welcome now than last year</td>\n",
       "      <td>NaN</td>\n",
       "      <td>7</td>\n",
       "      <td>4</td>\n",
       "    </tr>\n",
       "    <tr>\n",
       "      <th>2</th>\n",
       "      <td>3</td>\n",
       "      <td>I code primarily as a hobby</td>\n",
       "      <td>Yes</td>\n",
       "      <td>NaN</td>\n",
       "      <td>15</td>\n",
       "      <td>NaN</td>\n",
       "      <td>NaN</td>\n",
       "      <td>NaN</td>\n",
       "      <td>Russian Federation</td>\n",
       "      <td>NaN</td>\n",
       "      <td>...</td>\n",
       "      <td>Neither easy nor difficult</td>\n",
       "      <td>Appropriate in length</td>\n",
       "      <td>NaN</td>\n",
       "      <td>NaN</td>\n",
       "      <td>NaN</td>\n",
       "      <td>NaN</td>\n",
       "      <td>Somewhat more welcome now than last year</td>\n",
       "      <td>NaN</td>\n",
       "      <td>4</td>\n",
       "      <td>NaN</td>\n",
       "    </tr>\n",
       "    <tr>\n",
       "      <th>3</th>\n",
       "      <td>4</td>\n",
       "      <td>I am a developer by profession</td>\n",
       "      <td>Yes</td>\n",
       "      <td>25.0</td>\n",
       "      <td>18</td>\n",
       "      <td>NaN</td>\n",
       "      <td>NaN</td>\n",
       "      <td>NaN</td>\n",
       "      <td>Albania</td>\n",
       "      <td>Albanian lek</td>\n",
       "      <td>...</td>\n",
       "      <td>NaN</td>\n",
       "      <td>NaN</td>\n",
       "      <td>No</td>\n",
       "      <td>Computer science, computer engineering, or sof...</td>\n",
       "      <td>NaN</td>\n",
       "      <td>NaN</td>\n",
       "      <td>Somewhat less welcome now than last year</td>\n",
       "      <td>40.0</td>\n",
       "      <td>7</td>\n",
       "      <td>4</td>\n",
       "    </tr>\n",
       "    <tr>\n",
       "      <th>4</th>\n",
       "      <td>5</td>\n",
       "      <td>I used to be a developer by profession, but no...</td>\n",
       "      <td>Yes</td>\n",
       "      <td>31.0</td>\n",
       "      <td>16</td>\n",
       "      <td>NaN</td>\n",
       "      <td>NaN</td>\n",
       "      <td>NaN</td>\n",
       "      <td>United States</td>\n",
       "      <td>NaN</td>\n",
       "      <td>...</td>\n",
       "      <td>Easy</td>\n",
       "      <td>Too short</td>\n",
       "      <td>No</td>\n",
       "      <td>Computer science, computer engineering, or sof...</td>\n",
       "      <td>Django;Ruby on Rails</td>\n",
       "      <td>Ruby on Rails</td>\n",
       "      <td>Just as welcome now as I felt last year</td>\n",
       "      <td>NaN</td>\n",
       "      <td>15</td>\n",
       "      <td>8</td>\n",
       "    </tr>\n",
       "    <tr>\n",
       "      <th>...</th>\n",
       "      <td>...</td>\n",
       "      <td>...</td>\n",
       "      <td>...</td>\n",
       "      <td>...</td>\n",
       "      <td>...</td>\n",
       "      <td>...</td>\n",
       "      <td>...</td>\n",
       "      <td>...</td>\n",
       "      <td>...</td>\n",
       "      <td>...</td>\n",
       "      <td>...</td>\n",
       "      <td>...</td>\n",
       "      <td>...</td>\n",
       "      <td>...</td>\n",
       "      <td>...</td>\n",
       "      <td>...</td>\n",
       "      <td>...</td>\n",
       "      <td>...</td>\n",
       "      <td>...</td>\n",
       "      <td>...</td>\n",
       "      <td>...</td>\n",
       "    </tr>\n",
       "    <tr>\n",
       "      <th>64456</th>\n",
       "      <td>64858</td>\n",
       "      <td>NaN</td>\n",
       "      <td>Yes</td>\n",
       "      <td>NaN</td>\n",
       "      <td>16</td>\n",
       "      <td>NaN</td>\n",
       "      <td>NaN</td>\n",
       "      <td>NaN</td>\n",
       "      <td>United States</td>\n",
       "      <td>NaN</td>\n",
       "      <td>...</td>\n",
       "      <td>NaN</td>\n",
       "      <td>NaN</td>\n",
       "      <td>NaN</td>\n",
       "      <td>Computer science, computer engineering, or sof...</td>\n",
       "      <td>NaN</td>\n",
       "      <td>NaN</td>\n",
       "      <td>NaN</td>\n",
       "      <td>NaN</td>\n",
       "      <td>10</td>\n",
       "      <td>Less than 1 year</td>\n",
       "    </tr>\n",
       "    <tr>\n",
       "      <th>64457</th>\n",
       "      <td>64867</td>\n",
       "      <td>NaN</td>\n",
       "      <td>Yes</td>\n",
       "      <td>NaN</td>\n",
       "      <td>NaN</td>\n",
       "      <td>NaN</td>\n",
       "      <td>NaN</td>\n",
       "      <td>NaN</td>\n",
       "      <td>Morocco</td>\n",
       "      <td>NaN</td>\n",
       "      <td>...</td>\n",
       "      <td>NaN</td>\n",
       "      <td>NaN</td>\n",
       "      <td>NaN</td>\n",
       "      <td>NaN</td>\n",
       "      <td>NaN</td>\n",
       "      <td>NaN</td>\n",
       "      <td>NaN</td>\n",
       "      <td>NaN</td>\n",
       "      <td>NaN</td>\n",
       "      <td>NaN</td>\n",
       "    </tr>\n",
       "    <tr>\n",
       "      <th>64458</th>\n",
       "      <td>64898</td>\n",
       "      <td>NaN</td>\n",
       "      <td>Yes</td>\n",
       "      <td>NaN</td>\n",
       "      <td>NaN</td>\n",
       "      <td>NaN</td>\n",
       "      <td>NaN</td>\n",
       "      <td>NaN</td>\n",
       "      <td>Viet Nam</td>\n",
       "      <td>NaN</td>\n",
       "      <td>...</td>\n",
       "      <td>NaN</td>\n",
       "      <td>NaN</td>\n",
       "      <td>NaN</td>\n",
       "      <td>NaN</td>\n",
       "      <td>NaN</td>\n",
       "      <td>NaN</td>\n",
       "      <td>NaN</td>\n",
       "      <td>NaN</td>\n",
       "      <td>NaN</td>\n",
       "      <td>NaN</td>\n",
       "    </tr>\n",
       "    <tr>\n",
       "      <th>64459</th>\n",
       "      <td>64925</td>\n",
       "      <td>NaN</td>\n",
       "      <td>Yes</td>\n",
       "      <td>NaN</td>\n",
       "      <td>NaN</td>\n",
       "      <td>NaN</td>\n",
       "      <td>NaN</td>\n",
       "      <td>NaN</td>\n",
       "      <td>Poland</td>\n",
       "      <td>NaN</td>\n",
       "      <td>...</td>\n",
       "      <td>NaN</td>\n",
       "      <td>NaN</td>\n",
       "      <td>NaN</td>\n",
       "      <td>NaN</td>\n",
       "      <td>Angular;Angular.js;React.js</td>\n",
       "      <td>NaN</td>\n",
       "      <td>NaN</td>\n",
       "      <td>NaN</td>\n",
       "      <td>NaN</td>\n",
       "      <td>NaN</td>\n",
       "    </tr>\n",
       "    <tr>\n",
       "      <th>64460</th>\n",
       "      <td>65112</td>\n",
       "      <td>NaN</td>\n",
       "      <td>Yes</td>\n",
       "      <td>NaN</td>\n",
       "      <td>NaN</td>\n",
       "      <td>NaN</td>\n",
       "      <td>NaN</td>\n",
       "      <td>NaN</td>\n",
       "      <td>Spain</td>\n",
       "      <td>NaN</td>\n",
       "      <td>...</td>\n",
       "      <td>NaN</td>\n",
       "      <td>NaN</td>\n",
       "      <td>NaN</td>\n",
       "      <td>Computer science, computer engineering, or sof...</td>\n",
       "      <td>ASP.NET Core;jQuery</td>\n",
       "      <td>Angular;Angular.js;ASP.NET Core;jQuery</td>\n",
       "      <td>NaN</td>\n",
       "      <td>NaN</td>\n",
       "      <td>NaN</td>\n",
       "      <td>NaN</td>\n",
       "    </tr>\n",
       "  </tbody>\n",
       "</table>\n",
       "<p>64461 rows × 61 columns</p>\n",
       "</div>"
      ],
      "text/plain": [
       "       Respondent                                         MainBranch Hobbyist  \\\n",
       "0               1                     I am a developer by profession      Yes   \n",
       "1               2                     I am a developer by profession       No   \n",
       "2               3                        I code primarily as a hobby      Yes   \n",
       "3               4                     I am a developer by profession      Yes   \n",
       "4               5  I used to be a developer by profession, but no...      Yes   \n",
       "...           ...                                                ...      ...   \n",
       "64456       64858                                                NaN      Yes   \n",
       "64457       64867                                                NaN      Yes   \n",
       "64458       64898                                                NaN      Yes   \n",
       "64459       64925                                                NaN      Yes   \n",
       "64460       65112                                                NaN      Yes   \n",
       "\n",
       "        Age Age1stCode CompFreq  CompTotal  ConvertedComp             Country  \\\n",
       "0       NaN         13  Monthly        NaN            NaN             Germany   \n",
       "1       NaN         19      NaN        NaN            NaN      United Kingdom   \n",
       "2       NaN         15      NaN        NaN            NaN  Russian Federation   \n",
       "3      25.0         18      NaN        NaN            NaN             Albania   \n",
       "4      31.0         16      NaN        NaN            NaN       United States   \n",
       "...     ...        ...      ...        ...            ...                 ...   \n",
       "64456   NaN         16      NaN        NaN            NaN       United States   \n",
       "64457   NaN        NaN      NaN        NaN            NaN             Morocco   \n",
       "64458   NaN        NaN      NaN        NaN            NaN            Viet Nam   \n",
       "64459   NaN        NaN      NaN        NaN            NaN              Poland   \n",
       "64460   NaN        NaN      NaN        NaN            NaN               Spain   \n",
       "\n",
       "         CurrencyDesc  ...                  SurveyEase           SurveyLength  \\\n",
       "0       European Euro  ...  Neither easy nor difficult  Appropriate in length   \n",
       "1      Pound sterling  ...                         NaN                    NaN   \n",
       "2                 NaN  ...  Neither easy nor difficult  Appropriate in length   \n",
       "3        Albanian lek  ...                         NaN                    NaN   \n",
       "4                 NaN  ...                        Easy              Too short   \n",
       "...               ...  ...                         ...                    ...   \n",
       "64456             NaN  ...                         NaN                    NaN   \n",
       "64457             NaN  ...                         NaN                    NaN   \n",
       "64458             NaN  ...                         NaN                    NaN   \n",
       "64459             NaN  ...                         NaN                    NaN   \n",
       "64460             NaN  ...                         NaN                    NaN   \n",
       "\n",
       "      Trans                                     UndergradMajor  \\\n",
       "0        No  Computer science, computer engineering, or sof...   \n",
       "1       NaN  Computer science, computer engineering, or sof...   \n",
       "2       NaN                                                NaN   \n",
       "3        No  Computer science, computer engineering, or sof...   \n",
       "4        No  Computer science, computer engineering, or sof...   \n",
       "...     ...                                                ...   \n",
       "64456   NaN  Computer science, computer engineering, or sof...   \n",
       "64457   NaN                                                NaN   \n",
       "64458   NaN                                                NaN   \n",
       "64459   NaN                                                NaN   \n",
       "64460   NaN  Computer science, computer engineering, or sof...   \n",
       "\n",
       "            WebframeDesireNextYear                      WebframeWorkedWith  \\\n",
       "0                     ASP.NET Core                    ASP.NET;ASP.NET Core   \n",
       "1                              NaN                                     NaN   \n",
       "2                              NaN                                     NaN   \n",
       "3                              NaN                                     NaN   \n",
       "4             Django;Ruby on Rails                           Ruby on Rails   \n",
       "...                            ...                                     ...   \n",
       "64456                          NaN                                     NaN   \n",
       "64457                          NaN                                     NaN   \n",
       "64458                          NaN                                     NaN   \n",
       "64459  Angular;Angular.js;React.js                                     NaN   \n",
       "64460          ASP.NET Core;jQuery  Angular;Angular.js;ASP.NET Core;jQuery   \n",
       "\n",
       "                                  WelcomeChange WorkWeekHrs YearsCode  \\\n",
       "0       Just as welcome now as I felt last year        50.0        36   \n",
       "1      Somewhat more welcome now than last year         NaN         7   \n",
       "2      Somewhat more welcome now than last year         NaN         4   \n",
       "3      Somewhat less welcome now than last year        40.0         7   \n",
       "4       Just as welcome now as I felt last year         NaN        15   \n",
       "...                                         ...         ...       ...   \n",
       "64456                                       NaN         NaN        10   \n",
       "64457                                       NaN         NaN       NaN   \n",
       "64458                                       NaN         NaN       NaN   \n",
       "64459                                       NaN         NaN       NaN   \n",
       "64460                                       NaN         NaN       NaN   \n",
       "\n",
       "           YearsCodePro  \n",
       "0                    27  \n",
       "1                     4  \n",
       "2                   NaN  \n",
       "3                     4  \n",
       "4                     8  \n",
       "...                 ...  \n",
       "64456  Less than 1 year  \n",
       "64457               NaN  \n",
       "64458               NaN  \n",
       "64459               NaN  \n",
       "64460               NaN  \n",
       "\n",
       "[64461 rows x 61 columns]"
      ]
     },
     "execution_count": 3,
     "metadata": {},
     "output_type": "execute_result"
    }
   ],
   "source": [
    "survey_raw_df"
   ]
  },
  {
   "cell_type": "markdown",
   "id": "6302bd00",
   "metadata": {},
   "source": [
    "\n",
    " Let's view the list of columns in the data frame\n"
   ]
  },
  {
   "cell_type": "code",
   "execution_count": 4,
   "id": "e3ea7b18",
   "metadata": {},
   "outputs": [
    {
     "data": {
      "text/plain": [
       "Index(['Respondent', 'MainBranch', 'Hobbyist', 'Age', 'Age1stCode', 'CompFreq',\n",
       "       'CompTotal', 'ConvertedComp', 'Country', 'CurrencyDesc',\n",
       "       'CurrencySymbol', 'DatabaseDesireNextYear', 'DatabaseWorkedWith',\n",
       "       'DevType', 'EdLevel', 'Employment', 'Ethnicity', 'Gender', 'JobFactors',\n",
       "       'JobSat', 'JobSeek', 'LanguageDesireNextYear', 'LanguageWorkedWith',\n",
       "       'MiscTechDesireNextYear', 'MiscTechWorkedWith',\n",
       "       'NEWCollabToolsDesireNextYear', 'NEWCollabToolsWorkedWith', 'NEWDevOps',\n",
       "       'NEWDevOpsImpt', 'NEWEdImpt', 'NEWJobHunt', 'NEWJobHuntResearch',\n",
       "       'NEWLearn', 'NEWOffTopic', 'NEWOnboardGood', 'NEWOtherComms',\n",
       "       'NEWOvertime', 'NEWPurchaseResearch', 'NEWPurpleLink', 'NEWSOSites',\n",
       "       'NEWStuck', 'OpSys', 'OrgSize', 'PlatformDesireNextYear',\n",
       "       'PlatformWorkedWith', 'PurchaseWhat', 'Sexuality', 'SOAccount',\n",
       "       'SOComm', 'SOPartFreq', 'SOVisitFreq', 'SurveyEase', 'SurveyLength',\n",
       "       'Trans', 'UndergradMajor', 'WebframeDesireNextYear',\n",
       "       'WebframeWorkedWith', 'WelcomeChange', 'WorkWeekHrs', 'YearsCode',\n",
       "       'YearsCodePro'],\n",
       "      dtype='object')"
      ]
     },
     "execution_count": 4,
     "metadata": {},
     "output_type": "execute_result"
    }
   ],
   "source": [
    "survey_raw_df.columns"
   ]
  },
  {
   "cell_type": "markdown",
   "id": "2a0ec162",
   "metadata": {},
   "source": [
    "# \n",
    "It appears that short codes for questions are used as column names\n",
    "\n",
    "We can refer to the schema file to see full text of each question. The schema files contains only\n",
    "two columns: Column and QuestionText, so we can load it as Pandas Series with column as the index\n",
    "and the Questiontext as the value"
   ]
  },
  {
   "cell_type": "code",
   "execution_count": 5,
   "id": "53fa67e0",
   "metadata": {},
   "outputs": [],
   "source": [
    "schema_fname = 'C:\\\\Users\\\\AZUS\\\\Desktop\\\\stack-overflow-developer-survey-2020\\\\survey_results_schema.csv'"
   ]
  },
  {
   "cell_type": "code",
   "execution_count": 6,
   "id": "509e9486",
   "metadata": {},
   "outputs": [],
   "source": [
    "schema_raw = pd.read_csv(schema_fname, index_col='Column').QuestionText"
   ]
  },
  {
   "cell_type": "code",
   "execution_count": 7,
   "id": "d3498529",
   "metadata": {},
   "outputs": [
    {
     "data": {
      "text/plain": [
       "Column\n",
       "Respondent            Randomized respondent ID number (not in order ...\n",
       "MainBranch            Which of the following options best describes ...\n",
       "Hobbyist                                        Do you code as a hobby?\n",
       "Age                   What is your age (in years)? If you prefer not...\n",
       "Age1stCode            At what age did you write your first line of c...\n",
       "                                            ...                        \n",
       "WebframeWorkedWith    Which web frameworks have you done extensive d...\n",
       "WelcomeChange         Compared to last year, how welcome do you feel...\n",
       "WorkWeekHrs           On average, how many hours per week do you wor...\n",
       "YearsCode             Including any education, how many years have y...\n",
       "YearsCodePro          NOT including education, how many years have y...\n",
       "Name: QuestionText, Length: 61, dtype: object"
      ]
     },
     "execution_count": 7,
     "metadata": {},
     "output_type": "execute_result"
    }
   ],
   "source": [
    "schema_raw"
   ]
  },
  {
   "cell_type": "markdown",
   "id": "3a859a84",
   "metadata": {},
   "source": [
    "\n",
    "# \n",
    "We can now use schema_raw to retrieve the full question text for any column in survey_raw_df"
   ]
  },
  {
   "cell_type": "code",
   "execution_count": 8,
   "id": "38e09467",
   "metadata": {},
   "outputs": [
    {
     "data": {
      "text/plain": [
       "'On average, how many hours per week do you work? Please enter a whole number in the box.'"
      ]
     },
     "execution_count": 8,
     "metadata": {},
     "output_type": "execute_result"
    }
   ],
   "source": [
    "schema_raw['WorkWeekHrs']"
   ]
  },
  {
   "cell_type": "markdown",
   "id": "3e5506fb",
   "metadata": {},
   "source": [
    "## Data Preparation & Cleaning\n",
    "While the survey responses contain a wealth of information, we'll limit our analysis to the following\n",
    "areas:\n",
    "\n",
    "* Demographics of the survey respondents & the global programming community\n",
    "* Distribution of programming skills\n",
    "* Employment-related information, preference & opinion\n",
    "\n",
    "Let's select a subset of columns with the relevant data for our analysis\n"
   ]
  },
  {
   "cell_type": "code",
   "execution_count": 9,
   "id": "c053b784",
   "metadata": {},
   "outputs": [],
   "source": [
    "selected_columns = [\n",
    "    # Demographics \n",
    "    'Country',\n",
    "    'Age',\n",
    "    'Gender',\n",
    "    'EdLevel',\n",
    "    'UndergradMajor',\n",
    "    # Programming experience\n",
    "    'Hobbyist',\n",
    "    'Age1stCode',\n",
    "    'YearsCode',\n",
    "    'YearsCodePro',\n",
    "    'LanguageWorkedWith',\n",
    "    'LanguageDesireNextYear',\n",
    "    'NEWLearn',\n",
    "    'NEWStuck',\n",
    "    # Employment\n",
    "    'Employment',\n",
    "    'DevType',\n",
    "    'WorkWeekHrs',\n",
    "    'JobSat',\n",
    "    'JobFactors',\n",
    "    'NEWOvertime',\n",
    "    'NEWEdImpt'\n",
    "]"
   ]
  },
  {
   "cell_type": "code",
   "execution_count": 10,
   "id": "9f6280d1",
   "metadata": {},
   "outputs": [
    {
     "data": {
      "text/plain": [
       "20"
      ]
     },
     "execution_count": 10,
     "metadata": {},
     "output_type": "execute_result"
    }
   ],
   "source": [
    "len(selected_columns)"
   ]
  },
  {
   "cell_type": "markdown",
   "id": "55efef1e",
   "metadata": {},
   "source": [
    "\n",
    "\n",
    "Let's extract a copy of the data from these columns into a new data frame survey_df, which \n",
    "we can continue to modify further without affecting the original data frame."
   ]
  },
  {
   "cell_type": "code",
   "execution_count": 11,
   "id": "43c847e0",
   "metadata": {},
   "outputs": [],
   "source": [
    "survey_df = survey_raw_df[selected_columns].copy()"
   ]
  },
  {
   "cell_type": "code",
   "execution_count": 12,
   "id": "b8816784",
   "metadata": {},
   "outputs": [],
   "source": [
    "schema = schema_raw[selected_columns]"
   ]
  },
  {
   "cell_type": "markdown",
   "id": "230a2fb9",
   "metadata": {},
   "source": [
    "\n",
    "Let's view some basic information about the data frame"
   ]
  },
  {
   "cell_type": "code",
   "execution_count": 13,
   "id": "9a92ee8b",
   "metadata": {},
   "outputs": [
    {
     "data": {
      "text/plain": [
       "(64461, 20)"
      ]
     },
     "execution_count": 13,
     "metadata": {},
     "output_type": "execute_result"
    }
   ],
   "source": [
    "survey_df.shape"
   ]
  },
  {
   "cell_type": "code",
   "execution_count": 14,
   "id": "0465be01",
   "metadata": {},
   "outputs": [
    {
     "name": "stdout",
     "output_type": "stream",
     "text": [
      "<class 'pandas.core.frame.DataFrame'>\n",
      "RangeIndex: 64461 entries, 0 to 64460\n",
      "Data columns (total 20 columns):\n",
      " #   Column                  Non-Null Count  Dtype  \n",
      "---  ------                  --------------  -----  \n",
      " 0   Country                 64072 non-null  object \n",
      " 1   Age                     45446 non-null  float64\n",
      " 2   Gender                  50557 non-null  object \n",
      " 3   EdLevel                 57431 non-null  object \n",
      " 4   UndergradMajor          50995 non-null  object \n",
      " 5   Hobbyist                64416 non-null  object \n",
      " 6   Age1stCode              57900 non-null  object \n",
      " 7   YearsCode               57684 non-null  object \n",
      " 8   YearsCodePro            46349 non-null  object \n",
      " 9   LanguageWorkedWith      57378 non-null  object \n",
      " 10  LanguageDesireNextYear  54113 non-null  object \n",
      " 11  NEWLearn                56156 non-null  object \n",
      " 12  NEWStuck                54983 non-null  object \n",
      " 13  Employment              63854 non-null  object \n",
      " 14  DevType                 49370 non-null  object \n",
      " 15  WorkWeekHrs             41151 non-null  float64\n",
      " 16  JobSat                  45194 non-null  object \n",
      " 17  JobFactors              49349 non-null  object \n",
      " 18  NEWOvertime             43231 non-null  object \n",
      " 19  NEWEdImpt               48465 non-null  object \n",
      "dtypes: float64(2), object(18)\n",
      "memory usage: 9.8+ MB\n"
     ]
    }
   ],
   "source": [
    "survey_df.info()"
   ]
  },
  {
   "cell_type": "code",
   "execution_count": 15,
   "id": "2ba0e9d8",
   "metadata": {},
   "outputs": [],
   "source": [
    "## converting some columns into numeric data types"
   ]
  },
  {
   "cell_type": "code",
   "execution_count": 16,
   "id": "a0afadf7",
   "metadata": {},
   "outputs": [],
   "source": [
    "survey_df['Age1stCode'] = pd.to_numeric(survey_df.Age1stCode, errors='coerce')\n",
    "survey_df['YearsCode'] = pd.to_numeric(survey_df.YearsCode, errors='coerce')\n",
    "survey_df['YearsCodePro'] = pd.to_numeric(survey_df.YearsCodePro, errors='coerce')"
   ]
  },
  {
   "cell_type": "code",
   "execution_count": 17,
   "id": "77f55915",
   "metadata": {},
   "outputs": [],
   "source": [
    "## Basics statistics about the numeric columns"
   ]
  },
  {
   "cell_type": "code",
   "execution_count": 18,
   "id": "b5b19fcd",
   "metadata": {},
   "outputs": [
    {
     "data": {
      "text/html": [
       "<div>\n",
       "<style scoped>\n",
       "    .dataframe tbody tr th:only-of-type {\n",
       "        vertical-align: middle;\n",
       "    }\n",
       "\n",
       "    .dataframe tbody tr th {\n",
       "        vertical-align: top;\n",
       "    }\n",
       "\n",
       "    .dataframe thead th {\n",
       "        text-align: right;\n",
       "    }\n",
       "</style>\n",
       "<table border=\"1\" class=\"dataframe\">\n",
       "  <thead>\n",
       "    <tr style=\"text-align: right;\">\n",
       "      <th></th>\n",
       "      <th>Age</th>\n",
       "      <th>Age1stCode</th>\n",
       "      <th>YearsCode</th>\n",
       "      <th>YearsCodePro</th>\n",
       "      <th>WorkWeekHrs</th>\n",
       "    </tr>\n",
       "  </thead>\n",
       "  <tbody>\n",
       "    <tr>\n",
       "      <th>count</th>\n",
       "      <td>45446.000000</td>\n",
       "      <td>57473.000000</td>\n",
       "      <td>56784.000000</td>\n",
       "      <td>44133.000000</td>\n",
       "      <td>41151.000000</td>\n",
       "    </tr>\n",
       "    <tr>\n",
       "      <th>mean</th>\n",
       "      <td>30.834111</td>\n",
       "      <td>15.476572</td>\n",
       "      <td>12.782051</td>\n",
       "      <td>8.869667</td>\n",
       "      <td>40.782174</td>\n",
       "    </tr>\n",
       "    <tr>\n",
       "      <th>std</th>\n",
       "      <td>9.585392</td>\n",
       "      <td>5.114081</td>\n",
       "      <td>9.490657</td>\n",
       "      <td>7.759961</td>\n",
       "      <td>17.816383</td>\n",
       "    </tr>\n",
       "    <tr>\n",
       "      <th>min</th>\n",
       "      <td>1.000000</td>\n",
       "      <td>5.000000</td>\n",
       "      <td>1.000000</td>\n",
       "      <td>1.000000</td>\n",
       "      <td>1.000000</td>\n",
       "    </tr>\n",
       "    <tr>\n",
       "      <th>25%</th>\n",
       "      <td>24.000000</td>\n",
       "      <td>12.000000</td>\n",
       "      <td>6.000000</td>\n",
       "      <td>3.000000</td>\n",
       "      <td>40.000000</td>\n",
       "    </tr>\n",
       "    <tr>\n",
       "      <th>50%</th>\n",
       "      <td>29.000000</td>\n",
       "      <td>15.000000</td>\n",
       "      <td>10.000000</td>\n",
       "      <td>6.000000</td>\n",
       "      <td>40.000000</td>\n",
       "    </tr>\n",
       "    <tr>\n",
       "      <th>75%</th>\n",
       "      <td>35.000000</td>\n",
       "      <td>18.000000</td>\n",
       "      <td>17.000000</td>\n",
       "      <td>12.000000</td>\n",
       "      <td>44.000000</td>\n",
       "    </tr>\n",
       "    <tr>\n",
       "      <th>max</th>\n",
       "      <td>279.000000</td>\n",
       "      <td>85.000000</td>\n",
       "      <td>50.000000</td>\n",
       "      <td>50.000000</td>\n",
       "      <td>475.000000</td>\n",
       "    </tr>\n",
       "  </tbody>\n",
       "</table>\n",
       "</div>"
      ],
      "text/plain": [
       "                Age    Age1stCode     YearsCode  YearsCodePro   WorkWeekHrs\n",
       "count  45446.000000  57473.000000  56784.000000  44133.000000  41151.000000\n",
       "mean      30.834111     15.476572     12.782051      8.869667     40.782174\n",
       "std        9.585392      5.114081      9.490657      7.759961     17.816383\n",
       "min        1.000000      5.000000      1.000000      1.000000      1.000000\n",
       "25%       24.000000     12.000000      6.000000      3.000000     40.000000\n",
       "50%       29.000000     15.000000     10.000000      6.000000     40.000000\n",
       "75%       35.000000     18.000000     17.000000     12.000000     44.000000\n",
       "max      279.000000     85.000000     50.000000     50.000000    475.000000"
      ]
     },
     "execution_count": 18,
     "metadata": {},
     "output_type": "execute_result"
    }
   ],
   "source": [
    "survey_df.describe()"
   ]
  },
  {
   "cell_type": "markdown",
   "id": "a31084c2",
   "metadata": {},
   "source": [
    "There seems to be a problem with age column, as the min value is\n",
    "1 and max value is 279. This is common issues with surveys: responses \n",
    "may contain invalid values due to accidental or intentonal errors while responding.\n",
    "A simple fix would be ignore the rows where the value in the age column is higher than 100\n",
    "years or lower thn 10 years as invalid survey responses\n",
    " "
   ]
  },
  {
   "cell_type": "code",
   "execution_count": 19,
   "id": "655d18fe",
   "metadata": {},
   "outputs": [],
   "source": [
    "survey_df.drop(survey_df[survey_df.Age < 10].index,  inplace=True)\n",
    "survey_df.drop(survey_df[survey_df.Age > 100].index,  inplace=True)"
   ]
  },
  {
   "cell_type": "markdown",
   "id": "a0232401",
   "metadata": {},
   "source": [
    "# \n",
    "The same hold true for workweekhrs. Let's ignore entries where the value for the column \n",
    "is higher than 140 hours(~20 hours per day0"
   ]
  },
  {
   "cell_type": "code",
   "execution_count": 20,
   "id": "2e18a0ed",
   "metadata": {},
   "outputs": [],
   "source": [
    "survey_df.drop(survey_df[survey_df.WorkWeekHrs > 140].index,  inplace=True)"
   ]
  },
  {
   "cell_type": "code",
   "execution_count": 21,
   "id": "b8d7b0f0",
   "metadata": {},
   "outputs": [
    {
     "data": {
      "text/html": [
       "<div>\n",
       "<style scoped>\n",
       "    .dataframe tbody tr th:only-of-type {\n",
       "        vertical-align: middle;\n",
       "    }\n",
       "\n",
       "    .dataframe tbody tr th {\n",
       "        vertical-align: top;\n",
       "    }\n",
       "\n",
       "    .dataframe thead th {\n",
       "        text-align: right;\n",
       "    }\n",
       "</style>\n",
       "<table border=\"1\" class=\"dataframe\">\n",
       "  <thead>\n",
       "    <tr style=\"text-align: right;\">\n",
       "      <th></th>\n",
       "      <th>Age</th>\n",
       "      <th>Age1stCode</th>\n",
       "      <th>YearsCode</th>\n",
       "      <th>YearsCodePro</th>\n",
       "      <th>WorkWeekHrs</th>\n",
       "    </tr>\n",
       "  </thead>\n",
       "  <tbody>\n",
       "    <tr>\n",
       "      <th>count</th>\n",
       "      <td>45319.000000</td>\n",
       "      <td>57326.000000</td>\n",
       "      <td>56636.000000</td>\n",
       "      <td>43993.000000</td>\n",
       "      <td>41002.000000</td>\n",
       "    </tr>\n",
       "    <tr>\n",
       "      <th>mean</th>\n",
       "      <td>30.832322</td>\n",
       "      <td>15.475317</td>\n",
       "      <td>12.783883</td>\n",
       "      <td>8.873003</td>\n",
       "      <td>40.024395</td>\n",
       "    </tr>\n",
       "    <tr>\n",
       "      <th>std</th>\n",
       "      <td>9.505965</td>\n",
       "      <td>5.114952</td>\n",
       "      <td>9.494519</td>\n",
       "      <td>7.762089</td>\n",
       "      <td>10.630010</td>\n",
       "    </tr>\n",
       "    <tr>\n",
       "      <th>min</th>\n",
       "      <td>10.000000</td>\n",
       "      <td>5.000000</td>\n",
       "      <td>1.000000</td>\n",
       "      <td>1.000000</td>\n",
       "      <td>1.000000</td>\n",
       "    </tr>\n",
       "    <tr>\n",
       "      <th>25%</th>\n",
       "      <td>24.000000</td>\n",
       "      <td>12.000000</td>\n",
       "      <td>6.000000</td>\n",
       "      <td>3.000000</td>\n",
       "      <td>40.000000</td>\n",
       "    </tr>\n",
       "    <tr>\n",
       "      <th>50%</th>\n",
       "      <td>29.000000</td>\n",
       "      <td>15.000000</td>\n",
       "      <td>10.000000</td>\n",
       "      <td>6.000000</td>\n",
       "      <td>40.000000</td>\n",
       "    </tr>\n",
       "    <tr>\n",
       "      <th>75%</th>\n",
       "      <td>35.000000</td>\n",
       "      <td>18.000000</td>\n",
       "      <td>17.000000</td>\n",
       "      <td>12.000000</td>\n",
       "      <td>43.000000</td>\n",
       "    </tr>\n",
       "    <tr>\n",
       "      <th>max</th>\n",
       "      <td>99.000000</td>\n",
       "      <td>85.000000</td>\n",
       "      <td>50.000000</td>\n",
       "      <td>50.000000</td>\n",
       "      <td>140.000000</td>\n",
       "    </tr>\n",
       "  </tbody>\n",
       "</table>\n",
       "</div>"
      ],
      "text/plain": [
       "                Age    Age1stCode     YearsCode  YearsCodePro   WorkWeekHrs\n",
       "count  45319.000000  57326.000000  56636.000000  43993.000000  41002.000000\n",
       "mean      30.832322     15.475317     12.783883      8.873003     40.024395\n",
       "std        9.505965      5.114952      9.494519      7.762089     10.630010\n",
       "min       10.000000      5.000000      1.000000      1.000000      1.000000\n",
       "25%       24.000000     12.000000      6.000000      3.000000     40.000000\n",
       "50%       29.000000     15.000000     10.000000      6.000000     40.000000\n",
       "75%       35.000000     18.000000     17.000000     12.000000     43.000000\n",
       "max       99.000000     85.000000     50.000000     50.000000    140.000000"
      ]
     },
     "execution_count": 21,
     "metadata": {},
     "output_type": "execute_result"
    }
   ],
   "source": [
    "survey_df.describe()"
   ]
  },
  {
   "cell_type": "markdown",
   "id": "23a30c2d",
   "metadata": {},
   "source": [
    "# \n",
    "The gender column also allows picking multiple options, to simplify our analysis,\n",
    "we will remove values containing more than option"
   ]
  },
  {
   "cell_type": "code",
   "execution_count": 22,
   "id": "21bd321e",
   "metadata": {},
   "outputs": [
    {
     "data": {
      "text/plain": [
       "Man                                                            45895\n",
       "Woman                                                           3835\n",
       "Non-binary, genderqueer, or gender non-conforming                385\n",
       "Man;Non-binary, genderqueer, or gender non-conforming            121\n",
       "Woman;Non-binary, genderqueer, or gender non-conforming           92\n",
       "Woman;Man                                                         73\n",
       "Woman;Man;Non-binary, genderqueer, or gender non-conforming       25\n",
       "Name: Gender, dtype: int64"
      ]
     },
     "execution_count": 22,
     "metadata": {},
     "output_type": "execute_result"
    }
   ],
   "source": [
    "survey_df['Gender'].value_counts()"
   ]
  },
  {
   "cell_type": "code",
   "execution_count": 23,
   "id": "2ec817fe",
   "metadata": {},
   "outputs": [],
   "source": [
    "import numpy as np"
   ]
  },
  {
   "cell_type": "code",
   "execution_count": 24,
   "id": "1154ade7",
   "metadata": {},
   "outputs": [],
   "source": [
    "survey_df.where(~(survey_df.Gender.str.contains(';', na=False)), np.nan, inplace=True)"
   ]
  },
  {
   "cell_type": "code",
   "execution_count": 25,
   "id": "80621bc5",
   "metadata": {},
   "outputs": [
    {
     "data": {
      "text/plain": [
       "Man                                                  45895\n",
       "Woman                                                 3835\n",
       "Non-binary, genderqueer, or gender non-conforming      385\n",
       "Name: Gender, dtype: int64"
      ]
     },
     "execution_count": 25,
     "metadata": {},
     "output_type": "execute_result"
    }
   ],
   "source": [
    "survey_df['Gender'].value_counts()"
   ]
  },
  {
   "cell_type": "code",
   "execution_count": 26,
   "id": "d1d3a7e0",
   "metadata": {},
   "outputs": [],
   "source": [
    "## Sample of rows from the data frame"
   ]
  },
  {
   "cell_type": "code",
   "execution_count": 27,
   "id": "23fc474e",
   "metadata": {},
   "outputs": [
    {
     "data": {
      "text/html": [
       "<div>\n",
       "<style scoped>\n",
       "    .dataframe tbody tr th:only-of-type {\n",
       "        vertical-align: middle;\n",
       "    }\n",
       "\n",
       "    .dataframe tbody tr th {\n",
       "        vertical-align: top;\n",
       "    }\n",
       "\n",
       "    .dataframe thead th {\n",
       "        text-align: right;\n",
       "    }\n",
       "</style>\n",
       "<table border=\"1\" class=\"dataframe\">\n",
       "  <thead>\n",
       "    <tr style=\"text-align: right;\">\n",
       "      <th></th>\n",
       "      <th>Country</th>\n",
       "      <th>Age</th>\n",
       "      <th>Gender</th>\n",
       "      <th>EdLevel</th>\n",
       "      <th>UndergradMajor</th>\n",
       "      <th>Hobbyist</th>\n",
       "      <th>Age1stCode</th>\n",
       "      <th>YearsCode</th>\n",
       "      <th>YearsCodePro</th>\n",
       "      <th>LanguageWorkedWith</th>\n",
       "      <th>LanguageDesireNextYear</th>\n",
       "      <th>NEWLearn</th>\n",
       "      <th>NEWStuck</th>\n",
       "      <th>Employment</th>\n",
       "      <th>DevType</th>\n",
       "      <th>WorkWeekHrs</th>\n",
       "      <th>JobSat</th>\n",
       "      <th>JobFactors</th>\n",
       "      <th>NEWOvertime</th>\n",
       "      <th>NEWEdImpt</th>\n",
       "    </tr>\n",
       "  </thead>\n",
       "  <tbody>\n",
       "    <tr>\n",
       "      <th>16145</th>\n",
       "      <td>United States</td>\n",
       "      <td>41.0</td>\n",
       "      <td>Man</td>\n",
       "      <td>I never completed any formal education</td>\n",
       "      <td>NaN</td>\n",
       "      <td>Yes</td>\n",
       "      <td>12.0</td>\n",
       "      <td>15.0</td>\n",
       "      <td>15.0</td>\n",
       "      <td>Bash/Shell/PowerShell;Go;HTML/CSS;JavaScript;P...</td>\n",
       "      <td>Bash/Shell/PowerShell;Go;HTML/CSS;JavaScript;K...</td>\n",
       "      <td>Once a year</td>\n",
       "      <td>Visit Stack Overflow;Watch help / tutorial videos</td>\n",
       "      <td>Employed full-time</td>\n",
       "      <td>Data or business analyst;Database administrato...</td>\n",
       "      <td>40.0</td>\n",
       "      <td>Very satisfied</td>\n",
       "      <td>Languages, frameworks, and other technologies ...</td>\n",
       "      <td>Occasionally: 1-2 days per quarter but less th...</td>\n",
       "      <td>NaN</td>\n",
       "    </tr>\n",
       "    <tr>\n",
       "      <th>27005</th>\n",
       "      <td>Senegal</td>\n",
       "      <td>28.0</td>\n",
       "      <td>Man</td>\n",
       "      <td>Master’s degree (M.A., M.S., M.Eng., MBA, etc.)</td>\n",
       "      <td>Information systems, information technology, o...</td>\n",
       "      <td>Yes</td>\n",
       "      <td>22.0</td>\n",
       "      <td>6.0</td>\n",
       "      <td>2.0</td>\n",
       "      <td>HTML/CSS;Java;JavaScript;Kotlin;PHP;SQL;TypeSc...</td>\n",
       "      <td>Dart;Swift</td>\n",
       "      <td>Every few months</td>\n",
       "      <td>Call a coworker or friend;Visit Stack Overflow...</td>\n",
       "      <td>Employed full-time</td>\n",
       "      <td>Developer, full-stack</td>\n",
       "      <td>40.0</td>\n",
       "      <td>Very satisfied</td>\n",
       "      <td>Industry that I’d be working in;Languages, fra...</td>\n",
       "      <td>Often: 1-2 days per week or more</td>\n",
       "      <td>Fairly important</td>\n",
       "    </tr>\n",
       "    <tr>\n",
       "      <th>6589</th>\n",
       "      <td>India</td>\n",
       "      <td>25.0</td>\n",
       "      <td>Man</td>\n",
       "      <td>Bachelor’s degree (B.A., B.S., B.Eng., etc.)</td>\n",
       "      <td>Computer science, computer engineering, or sof...</td>\n",
       "      <td>Yes</td>\n",
       "      <td>18.0</td>\n",
       "      <td>7.0</td>\n",
       "      <td>3.0</td>\n",
       "      <td>Bash/Shell/PowerShell;C;C++;Go;Java;JavaScript...</td>\n",
       "      <td>Go;JavaScript;Python;SQL</td>\n",
       "      <td>Every few months</td>\n",
       "      <td>Call a coworker or friend;Visit Stack Overflow...</td>\n",
       "      <td>Employed full-time</td>\n",
       "      <td>Developer, back-end;Developer, full-stack</td>\n",
       "      <td>45.0</td>\n",
       "      <td>Neither satisfied nor dissatisfied</td>\n",
       "      <td>Languages, frameworks, and other technologies ...</td>\n",
       "      <td>Sometimes: 1-2 days per month but less than we...</td>\n",
       "      <td>Very important</td>\n",
       "    </tr>\n",
       "    <tr>\n",
       "      <th>24551</th>\n",
       "      <td>United States</td>\n",
       "      <td>40.0</td>\n",
       "      <td>Man</td>\n",
       "      <td>Bachelor’s degree (B.A., B.S., B.Eng., etc.)</td>\n",
       "      <td>Computer science, computer engineering, or sof...</td>\n",
       "      <td>Yes</td>\n",
       "      <td>14.0</td>\n",
       "      <td>20.0</td>\n",
       "      <td>15.0</td>\n",
       "      <td>Bash/Shell/PowerShell;C#;JavaScript;Python;SQL...</td>\n",
       "      <td>Bash/Shell/PowerShell;C#;JavaScript;Kotlin;Pyt...</td>\n",
       "      <td>Once a year</td>\n",
       "      <td>Watch help / tutorial videos;Do other work and...</td>\n",
       "      <td>Employed full-time</td>\n",
       "      <td>Developer, back-end;Developer, desktop or ente...</td>\n",
       "      <td>45.0</td>\n",
       "      <td>Slightly satisfied</td>\n",
       "      <td>Languages, frameworks, and other technologies ...</td>\n",
       "      <td>Occasionally: 1-2 days per quarter but less th...</td>\n",
       "      <td>Very important</td>\n",
       "    </tr>\n",
       "    <tr>\n",
       "      <th>61767</th>\n",
       "      <td>Brazil</td>\n",
       "      <td>NaN</td>\n",
       "      <td>NaN</td>\n",
       "      <td>NaN</td>\n",
       "      <td>NaN</td>\n",
       "      <td>Yes</td>\n",
       "      <td>NaN</td>\n",
       "      <td>NaN</td>\n",
       "      <td>NaN</td>\n",
       "      <td>NaN</td>\n",
       "      <td>NaN</td>\n",
       "      <td>NaN</td>\n",
       "      <td>NaN</td>\n",
       "      <td>Not employed, but looking for work</td>\n",
       "      <td>NaN</td>\n",
       "      <td>NaN</td>\n",
       "      <td>NaN</td>\n",
       "      <td>NaN</td>\n",
       "      <td>NaN</td>\n",
       "      <td>NaN</td>\n",
       "    </tr>\n",
       "    <tr>\n",
       "      <th>14803</th>\n",
       "      <td>India</td>\n",
       "      <td>NaN</td>\n",
       "      <td>Man</td>\n",
       "      <td>Bachelor’s degree (B.A., B.S., B.Eng., etc.)</td>\n",
       "      <td>Computer science, computer engineering, or sof...</td>\n",
       "      <td>No</td>\n",
       "      <td>18.0</td>\n",
       "      <td>5.0</td>\n",
       "      <td>2.0</td>\n",
       "      <td>HTML/CSS;JavaScript;TypeScript</td>\n",
       "      <td>NaN</td>\n",
       "      <td>Every few months</td>\n",
       "      <td>Visit Stack Overflow</td>\n",
       "      <td>Independent contractor, freelancer, or self-em...</td>\n",
       "      <td>Developer, back-end;Developer, desktop or ente...</td>\n",
       "      <td>NaN</td>\n",
       "      <td>Slightly dissatisfied</td>\n",
       "      <td>Languages, frameworks, and other technologies ...</td>\n",
       "      <td>NaN</td>\n",
       "      <td>Very important</td>\n",
       "    </tr>\n",
       "    <tr>\n",
       "      <th>5538</th>\n",
       "      <td>Philippines</td>\n",
       "      <td>22.0</td>\n",
       "      <td>Man</td>\n",
       "      <td>Secondary school (e.g. American high school, G...</td>\n",
       "      <td>NaN</td>\n",
       "      <td>Yes</td>\n",
       "      <td>11.0</td>\n",
       "      <td>12.0</td>\n",
       "      <td>2.0</td>\n",
       "      <td>C#;HTML/CSS;JavaScript;Kotlin;PHP;Python</td>\n",
       "      <td>HTML/CSS;JavaScript;PHP;Python</td>\n",
       "      <td>Every few months</td>\n",
       "      <td>Visit Stack Overflow</td>\n",
       "      <td>Independent contractor, freelancer, or self-em...</td>\n",
       "      <td>Developer, full-stack</td>\n",
       "      <td>63.0</td>\n",
       "      <td>Very satisfied</td>\n",
       "      <td>Flex time or a flexible schedule;Remote work o...</td>\n",
       "      <td>Often: 1-2 days per week or more</td>\n",
       "      <td>Fairly important</td>\n",
       "    </tr>\n",
       "    <tr>\n",
       "      <th>19338</th>\n",
       "      <td>United States</td>\n",
       "      <td>43.0</td>\n",
       "      <td>Man</td>\n",
       "      <td>Bachelor’s degree (B.A., B.S., B.Eng., etc.)</td>\n",
       "      <td>Fine arts or performing arts (such as graphic ...</td>\n",
       "      <td>No</td>\n",
       "      <td>12.0</td>\n",
       "      <td>20.0</td>\n",
       "      <td>20.0</td>\n",
       "      <td>C#;JavaScript;SQL</td>\n",
       "      <td>C#;Java;JavaScript;SQL</td>\n",
       "      <td>Once every few years</td>\n",
       "      <td>Meditate;Play games;Visit Stack Overflow;Do ot...</td>\n",
       "      <td>Independent contractor, freelancer, or self-em...</td>\n",
       "      <td>Developer, back-end</td>\n",
       "      <td>30.0</td>\n",
       "      <td>Slightly satisfied</td>\n",
       "      <td>Flex time or a flexible schedule;Languages, fr...</td>\n",
       "      <td>Never</td>\n",
       "      <td>Not at all important/not necessary</td>\n",
       "    </tr>\n",
       "    <tr>\n",
       "      <th>41232</th>\n",
       "      <td>Sri Lanka</td>\n",
       "      <td>NaN</td>\n",
       "      <td>NaN</td>\n",
       "      <td>NaN</td>\n",
       "      <td>NaN</td>\n",
       "      <td>Yes</td>\n",
       "      <td>NaN</td>\n",
       "      <td>NaN</td>\n",
       "      <td>NaN</td>\n",
       "      <td>Java;JavaScript;PHP;Python;SQL;TypeScript</td>\n",
       "      <td>NaN</td>\n",
       "      <td>Every few months</td>\n",
       "      <td>Play games;Watch help / tutorial videos</td>\n",
       "      <td>Employed full-time</td>\n",
       "      <td>NaN</td>\n",
       "      <td>NaN</td>\n",
       "      <td>NaN</td>\n",
       "      <td>NaN</td>\n",
       "      <td>NaN</td>\n",
       "      <td>NaN</td>\n",
       "    </tr>\n",
       "    <tr>\n",
       "      <th>9290</th>\n",
       "      <td>France</td>\n",
       "      <td>28.0</td>\n",
       "      <td>Man</td>\n",
       "      <td>Master’s degree (M.A., M.S., M.Eng., MBA, etc.)</td>\n",
       "      <td>Information systems, information technology, o...</td>\n",
       "      <td>No</td>\n",
       "      <td>16.0</td>\n",
       "      <td>7.0</td>\n",
       "      <td>4.0</td>\n",
       "      <td>SQL</td>\n",
       "      <td>Python;R</td>\n",
       "      <td>Once every few years</td>\n",
       "      <td>Call a coworker or friend;Visit Stack Overflow</td>\n",
       "      <td>Employed full-time</td>\n",
       "      <td>Database administrator;Developer, back-end;Eng...</td>\n",
       "      <td>40.0</td>\n",
       "      <td>Very satisfied</td>\n",
       "      <td>Industry that I’d be working in;Flex time or a...</td>\n",
       "      <td>Sometimes: 1-2 days per month but less than we...</td>\n",
       "      <td>Somewhat important</td>\n",
       "    </tr>\n",
       "  </tbody>\n",
       "</table>\n",
       "</div>"
      ],
      "text/plain": [
       "             Country   Age Gender  \\\n",
       "16145  United States  41.0    Man   \n",
       "27005        Senegal  28.0    Man   \n",
       "6589           India  25.0    Man   \n",
       "24551  United States  40.0    Man   \n",
       "61767         Brazil   NaN    NaN   \n",
       "14803          India   NaN    Man   \n",
       "5538     Philippines  22.0    Man   \n",
       "19338  United States  43.0    Man   \n",
       "41232      Sri Lanka   NaN    NaN   \n",
       "9290          France  28.0    Man   \n",
       "\n",
       "                                                 EdLevel  \\\n",
       "16145             I never completed any formal education   \n",
       "27005    Master’s degree (M.A., M.S., M.Eng., MBA, etc.)   \n",
       "6589        Bachelor’s degree (B.A., B.S., B.Eng., etc.)   \n",
       "24551       Bachelor’s degree (B.A., B.S., B.Eng., etc.)   \n",
       "61767                                                NaN   \n",
       "14803       Bachelor’s degree (B.A., B.S., B.Eng., etc.)   \n",
       "5538   Secondary school (e.g. American high school, G...   \n",
       "19338       Bachelor’s degree (B.A., B.S., B.Eng., etc.)   \n",
       "41232                                                NaN   \n",
       "9290     Master’s degree (M.A., M.S., M.Eng., MBA, etc.)   \n",
       "\n",
       "                                          UndergradMajor Hobbyist  Age1stCode  \\\n",
       "16145                                                NaN      Yes        12.0   \n",
       "27005  Information systems, information technology, o...      Yes        22.0   \n",
       "6589   Computer science, computer engineering, or sof...      Yes        18.0   \n",
       "24551  Computer science, computer engineering, or sof...      Yes        14.0   \n",
       "61767                                                NaN      Yes         NaN   \n",
       "14803  Computer science, computer engineering, or sof...       No        18.0   \n",
       "5538                                                 NaN      Yes        11.0   \n",
       "19338  Fine arts or performing arts (such as graphic ...       No        12.0   \n",
       "41232                                                NaN      Yes         NaN   \n",
       "9290   Information systems, information technology, o...       No        16.0   \n",
       "\n",
       "       YearsCode  YearsCodePro  \\\n",
       "16145       15.0          15.0   \n",
       "27005        6.0           2.0   \n",
       "6589         7.0           3.0   \n",
       "24551       20.0          15.0   \n",
       "61767        NaN           NaN   \n",
       "14803        5.0           2.0   \n",
       "5538        12.0           2.0   \n",
       "19338       20.0          20.0   \n",
       "41232        NaN           NaN   \n",
       "9290         7.0           4.0   \n",
       "\n",
       "                                      LanguageWorkedWith  \\\n",
       "16145  Bash/Shell/PowerShell;Go;HTML/CSS;JavaScript;P...   \n",
       "27005  HTML/CSS;Java;JavaScript;Kotlin;PHP;SQL;TypeSc...   \n",
       "6589   Bash/Shell/PowerShell;C;C++;Go;Java;JavaScript...   \n",
       "24551  Bash/Shell/PowerShell;C#;JavaScript;Python;SQL...   \n",
       "61767                                                NaN   \n",
       "14803                     HTML/CSS;JavaScript;TypeScript   \n",
       "5538            C#;HTML/CSS;JavaScript;Kotlin;PHP;Python   \n",
       "19338                                  C#;JavaScript;SQL   \n",
       "41232          Java;JavaScript;PHP;Python;SQL;TypeScript   \n",
       "9290                                                 SQL   \n",
       "\n",
       "                                  LanguageDesireNextYear  \\\n",
       "16145  Bash/Shell/PowerShell;Go;HTML/CSS;JavaScript;K...   \n",
       "27005                                         Dart;Swift   \n",
       "6589                            Go;JavaScript;Python;SQL   \n",
       "24551  Bash/Shell/PowerShell;C#;JavaScript;Kotlin;Pyt...   \n",
       "61767                                                NaN   \n",
       "14803                                                NaN   \n",
       "5538                      HTML/CSS;JavaScript;PHP;Python   \n",
       "19338                             C#;Java;JavaScript;SQL   \n",
       "41232                                                NaN   \n",
       "9290                                            Python;R   \n",
       "\n",
       "                   NEWLearn  \\\n",
       "16145           Once a year   \n",
       "27005      Every few months   \n",
       "6589       Every few months   \n",
       "24551           Once a year   \n",
       "61767                   NaN   \n",
       "14803      Every few months   \n",
       "5538       Every few months   \n",
       "19338  Once every few years   \n",
       "41232      Every few months   \n",
       "9290   Once every few years   \n",
       "\n",
       "                                                NEWStuck  \\\n",
       "16145  Visit Stack Overflow;Watch help / tutorial videos   \n",
       "27005  Call a coworker or friend;Visit Stack Overflow...   \n",
       "6589   Call a coworker or friend;Visit Stack Overflow...   \n",
       "24551  Watch help / tutorial videos;Do other work and...   \n",
       "61767                                                NaN   \n",
       "14803                               Visit Stack Overflow   \n",
       "5538                                Visit Stack Overflow   \n",
       "19338  Meditate;Play games;Visit Stack Overflow;Do ot...   \n",
       "41232            Play games;Watch help / tutorial videos   \n",
       "9290      Call a coworker or friend;Visit Stack Overflow   \n",
       "\n",
       "                                              Employment  \\\n",
       "16145                                 Employed full-time   \n",
       "27005                                 Employed full-time   \n",
       "6589                                  Employed full-time   \n",
       "24551                                 Employed full-time   \n",
       "61767                 Not employed, but looking for work   \n",
       "14803  Independent contractor, freelancer, or self-em...   \n",
       "5538   Independent contractor, freelancer, or self-em...   \n",
       "19338  Independent contractor, freelancer, or self-em...   \n",
       "41232                                 Employed full-time   \n",
       "9290                                  Employed full-time   \n",
       "\n",
       "                                                 DevType  WorkWeekHrs  \\\n",
       "16145  Data or business analyst;Database administrato...         40.0   \n",
       "27005                              Developer, full-stack         40.0   \n",
       "6589           Developer, back-end;Developer, full-stack         45.0   \n",
       "24551  Developer, back-end;Developer, desktop or ente...         45.0   \n",
       "61767                                                NaN          NaN   \n",
       "14803  Developer, back-end;Developer, desktop or ente...          NaN   \n",
       "5538                               Developer, full-stack         63.0   \n",
       "19338                                Developer, back-end         30.0   \n",
       "41232                                                NaN          NaN   \n",
       "9290   Database administrator;Developer, back-end;Eng...         40.0   \n",
       "\n",
       "                                   JobSat  \\\n",
       "16145                      Very satisfied   \n",
       "27005                      Very satisfied   \n",
       "6589   Neither satisfied nor dissatisfied   \n",
       "24551                  Slightly satisfied   \n",
       "61767                                 NaN   \n",
       "14803               Slightly dissatisfied   \n",
       "5538                       Very satisfied   \n",
       "19338                  Slightly satisfied   \n",
       "41232                                 NaN   \n",
       "9290                       Very satisfied   \n",
       "\n",
       "                                              JobFactors  \\\n",
       "16145  Languages, frameworks, and other technologies ...   \n",
       "27005  Industry that I’d be working in;Languages, fra...   \n",
       "6589   Languages, frameworks, and other technologies ...   \n",
       "24551  Languages, frameworks, and other technologies ...   \n",
       "61767                                                NaN   \n",
       "14803  Languages, frameworks, and other technologies ...   \n",
       "5538   Flex time or a flexible schedule;Remote work o...   \n",
       "19338  Flex time or a flexible schedule;Languages, fr...   \n",
       "41232                                                NaN   \n",
       "9290   Industry that I’d be working in;Flex time or a...   \n",
       "\n",
       "                                             NEWOvertime  \\\n",
       "16145  Occasionally: 1-2 days per quarter but less th...   \n",
       "27005                   Often: 1-2 days per week or more   \n",
       "6589   Sometimes: 1-2 days per month but less than we...   \n",
       "24551  Occasionally: 1-2 days per quarter but less th...   \n",
       "61767                                                NaN   \n",
       "14803                                                NaN   \n",
       "5538                    Often: 1-2 days per week or more   \n",
       "19338                                              Never   \n",
       "41232                                                NaN   \n",
       "9290   Sometimes: 1-2 days per month but less than we...   \n",
       "\n",
       "                                NEWEdImpt  \n",
       "16145                                 NaN  \n",
       "27005                    Fairly important  \n",
       "6589                       Very important  \n",
       "24551                      Very important  \n",
       "61767                                 NaN  \n",
       "14803                      Very important  \n",
       "5538                     Fairly important  \n",
       "19338  Not at all important/not necessary  \n",
       "41232                                 NaN  \n",
       "9290                   Somewhat important  "
      ]
     },
     "execution_count": 27,
     "metadata": {},
     "output_type": "execute_result"
    }
   ],
   "source": [
    "survey_df.sample(10)"
   ]
  },
  {
   "cell_type": "markdown",
   "id": "227e993f",
   "metadata": {},
   "source": [
    "## Exploratory Analysis and Visualisation\n",
    "Before we can ask interesting questions about the survey reponses, it would help to understand what \n",
    "the demographics i.e country,age, gneder.... of the respondents looks like"
   ]
  },
  {
   "cell_type": "code",
   "execution_count": 34,
   "id": "fc21fd33",
   "metadata": {},
   "outputs": [],
   "source": [
    "import seaborn as sns\n",
    "import matplotlib\n",
    "import matplotlib.pyplot as plt\n",
    "%matplotlib inline\n",
    "\n",
    "sns.set_style('darkgrid')\n",
    "matplotlib.rcParams['font.size'] = 14\n",
    "matplotlib.rcParams['figure.figsize'] = (9, 5)\n",
    "matplotlib.rcParams['figure.facecolor'] = '#00000000'"
   ]
  },
  {
   "cell_type": "markdown",
   "id": "00fdd5f1",
   "metadata": {},
   "source": [
    "## Country\n",
    "Let's look at the number of countries from which there are responses in the survey, and plot the 10\n",
    "countries with the highest number of responses"
   ]
  },
  {
   "cell_type": "code",
   "execution_count": 29,
   "id": "2009519c",
   "metadata": {},
   "outputs": [
    {
     "data": {
      "text/plain": [
       "'Where do you live?'"
      ]
     },
     "execution_count": 29,
     "metadata": {},
     "output_type": "execute_result"
    }
   ],
   "source": [
    "schema.Country"
   ]
  },
  {
   "cell_type": "code",
   "execution_count": 30,
   "id": "4414ef6e",
   "metadata": {},
   "outputs": [
    {
     "data": {
      "text/plain": [
       "Country                     183\n",
       "Age                         105\n",
       "Gender                        3\n",
       "EdLevel                       9\n",
       "UndergradMajor               12\n",
       "Hobbyist                      2\n",
       "Age1stCode                   61\n",
       "YearsCode                    50\n",
       "YearsCodePro                 50\n",
       "LanguageWorkedWith        14169\n",
       "LanguageDesireNextYear    16123\n",
       "NEWLearn                      4\n",
       "NEWStuck                    444\n",
       "Employment                    7\n",
       "DevType                    8213\n",
       "WorkWeekHrs                 144\n",
       "JobSat                        5\n",
       "JobFactors                  230\n",
       "NEWOvertime                   5\n",
       "NEWEdImpt                     5\n",
       "dtype: int64"
      ]
     },
     "execution_count": 30,
     "metadata": {},
     "output_type": "execute_result"
    }
   ],
   "source": [
    "survey_df.nunique()"
   ]
  },
  {
   "cell_type": "markdown",
   "id": "fec4aa7b",
   "metadata": {},
   "source": [
    "# \n",
    "We can identify the country with the highest respondents using the value_counts() method"
   ]
  },
  {
   "cell_type": "code",
   "execution_count": 31,
   "id": "0ff6af4a",
   "metadata": {},
   "outputs": [
    {
     "data": {
      "text/plain": [
       "United States         12371\n",
       "India                  8364\n",
       "United Kingdom         3881\n",
       "Germany                3864\n",
       "Canada                 2175\n",
       "France                 1884\n",
       "Brazil                 1804\n",
       "Netherlands            1332\n",
       "Poland                 1259\n",
       "Australia              1199\n",
       "Spain                  1157\n",
       "Italy                  1115\n",
       "Russian Federation     1085\n",
       "Sweden                  879\n",
       "Pakistan                802\n",
       "Name: Country, dtype: int64"
      ]
     },
     "execution_count": 31,
     "metadata": {},
     "output_type": "execute_result"
    }
   ],
   "source": [
    "top_countries = survey_df.Country.value_counts().head(15)\n",
    "top_countries"
   ]
  },
  {
   "cell_type": "code",
   "execution_count": 32,
   "id": "78ac2701",
   "metadata": {},
   "outputs": [],
   "source": [
    "## Visualisation of the result using a bar chat\n"
   ]
  },
  {
   "cell_type": "code",
   "execution_count": 33,
   "id": "5dc9a1aa",
   "metadata": {},
   "outputs": [
    {
     "name": "stderr",
     "output_type": "stream",
     "text": [
      "C:\\Users\\AZUS\\anaconda3\\lib\\site-packages\\seaborn\\_decorators.py:36: FutureWarning: Pass the following variables as keyword args: x, y. From version 0.12, the only valid positional argument will be `data`, and passing other arguments without an explicit keyword will result in an error or misinterpretation.\n",
      "  warnings.warn(\n"
     ]
    },
    {
     "data": {
      "image/png": "[encoded data removed]",
      "text/plain": [
       "<Figure size 864x432 with 1 Axes>"
      ]
     },
     "metadata": {
      "needs_background": "light"
     },
     "output_type": "display_data"
    }
   ],
   "source": [
    "plt.figure(figsize=(12,6))\n",
    "plt.xticks(rotation=75)\n",
    "plt.title(schema.Country)\n",
    "sns.barplot(top_countries.index, top_countries);"
   ]
  },
  {
   "cell_type": "markdown",
   "id": "7b8f3ef8",
   "metadata": {},
   "source": [
    "# \n",
    "It appears that a disproportionately high number of respondents are from USA and India- which\n",
    "one might expect since these countries have the highest population(China excluded), and since\n",
    "the Survey is English, which is the common language used by professionals in US, India & UK.\n",
    "We can already see that the survey may not be representative of the entire programming community\n",
    "especially from non-English countries"
   ]
  },
  {
   "cell_type": "markdown",
   "id": "f8785171",
   "metadata": {},
   "source": [
    "## Age\n",
    "The distribution of the age of respondents is another important factor to look at,and we can use a \n",
    "histogram to visualize it"
   ]
  },
  {
   "cell_type": "code",
   "execution_count": 35,
   "id": "9a68f72e",
   "metadata": {},
   "outputs": [
    {
     "data": {
      "text/plain": [
       "(array([  209.,  2419.,  9135., 11938.,  8739.,  5582.,  3031.,  1756.,\n",
       "         1038.,   622.,   333.,   143.,    75.]),\n",
       " array([10, 15, 20, 25, 30, 35, 40, 45, 50, 55, 60, 65, 70, 75]),\n",
       " <BarContainer object of 13 artists>)"
      ]
     },
     "execution_count": 35,
     "metadata": {},
     "output_type": "execute_result"
    },
    {
     "data": {
      "image/png": "[encoded data removed]",
      "text/plain": [
       "<Figure size 864x432 with 1 Axes>"
      ]
     },
     "metadata": {
      "needs_background": "light"
     },
     "output_type": "display_data"
    }
   ],
   "source": [
    "plt.figure(figsize=(12, 6))\n",
    "plt.title(schema.Age)\n",
    "plt.xlabel('Age')\n",
    "plt.ylabel('Number of respondents')\n",
    "\n",
    "plt.hist(survey_df.Age, bins=np.arange(10,80,5), color='red')"
   ]
  },
  {
   "cell_type": "markdown",
   "id": "8e7e42bd",
   "metadata": {},
   "source": [
    "# \n",
    "It appears that a large percentage of respondents are in the age range of 20-45, which is somewhat representative \n",
    "programming community in general,as a lot of young people have taken up computer as their field of study or\n",
    "professiom in the last 20 years"
   ]
  },
  {
   "cell_type": "markdown",
   "id": "80ac0391",
   "metadata": {},
   "source": [
    "## Gender\n",
    "Let's look at the distribution of responses for the Gender, it's a well known fact that women and \n",
    "non-binary genders are underrepresented at programming community, so we might expect to \n",
    "see a skewed distribution here"
   ]
  },
  {
   "cell_type": "code",
   "execution_count": 36,
   "id": "a2aea4b3",
   "metadata": {},
   "outputs": [
    {
     "data": {
      "text/plain": [
       "'Which of the following describe you, if any? Please check all that apply. If you prefer not to answer, you may leave this question blank.'"
      ]
     },
     "execution_count": 36,
     "metadata": {},
     "output_type": "execute_result"
    }
   ],
   "source": [
    "schema.Gender"
   ]
  },
  {
   "cell_type": "code",
   "execution_count": 37,
   "id": "9872f6e5",
   "metadata": {},
   "outputs": [
    {
     "data": {
      "text/plain": [
       "Man                                                  45895\n",
       "NaN                                                  14191\n",
       "Woman                                                 3835\n",
       "Non-binary, genderqueer, or gender non-conforming      385\n",
       "Name: Gender, dtype: int64"
      ]
     },
     "execution_count": 37,
     "metadata": {},
     "output_type": "execute_result"
    }
   ],
   "source": [
    "gender_counts = survey_df.Gender.value_counts(dropna=False)\n",
    "gender_counts"
   ]
  },
  {
   "cell_type": "code",
   "execution_count": 38,
   "id": "8b195175",
   "metadata": {},
   "outputs": [],
   "source": [
    "## visualizing the result"
   ]
  },
  {
   "cell_type": "code",
   "execution_count": 39,
   "id": "bdd8adfd",
   "metadata": {},
   "outputs": [
    {
     "data": {
      "image/png": "[encoded data removed]",
      "text/plain": [
       "<Figure size 864x432 with 1 Axes>"
      ]
     },
     "metadata": {},
     "output_type": "display_data"
    }
   ],
   "source": [
    "plt.figure(figsize=(12, 6))\n",
    "plt.title(schema.Gender)\n",
    "plt.pie(gender_counts, labels=gender_counts.index, autopct='%1.1f%%', startangle=180);"
   ]
  },
  {
   "cell_type": "markdown",
   "id": "c1777d01",
   "metadata": {},
   "source": [
    "## Education  Level\n",
    "Formal education in computer science is often considered an important requirement of becoming a \n",
    "programmer. Let's see if this is indeed the case, especially since there are many free resources &\n",
    "tutorials available online to learn programming. We'll use a horizontal bar plot to compare \n",
    "education levels of respondents"
   ]
  },
  {
   "cell_type": "code",
   "execution_count": 40,
   "id": "718fb1e2",
   "metadata": {},
   "outputs": [
    {
     "data": {
      "image/png": "[encoded data removed]",
      "text/plain": [
       "<Figure size 720x720 with 1 Axes>"
      ]
     },
     "metadata": {
      "needs_background": "light"
     },
     "output_type": "display_data"
    }
   ],
   "source": [
    "plt.figure(figsize=(10, 10))\n",
    "sns.countplot(y=survey_df.EdLevel)\n",
    "plt.xticks(rotation=75)\n",
    "plt.title(schema['EdLevel'])\n",
    "plt.ylabel(None);"
   ]
  },
  {
   "cell_type": "markdown",
   "id": "8c11e750",
   "metadata": {},
   "source": [
    "# \n",
    "It appears that over half of the respondents hold a bachelor or master's degree, so most\n",
    "programmers definitely seem to have some collge education, although it's not clear from this\n",
    "graph alone if they had a degree in computer science.\n",
    "\n",
    "Let's also plot undergraduate majors, but this time we'll convert the numbers into percentages,\n",
    "and sort by percentage values to make it easier to visualize the order."
   ]
  },
  {
   "cell_type": "code",
   "execution_count": 41,
   "id": "874e873d",
   "metadata": {},
   "outputs": [
    {
     "data": {
      "text/plain": [
       "'What was your primary field of study?'"
      ]
     },
     "execution_count": 41,
     "metadata": {},
     "output_type": "execute_result"
    }
   ],
   "source": [
    "schema.UndergradMajor"
   ]
  },
  {
   "cell_type": "code",
   "execution_count": 42,
   "id": "a9f4732f",
   "metadata": {},
   "outputs": [
    {
     "data": {
      "text/plain": [
       "Computer science, computer engineering, or software engineering                   61.939193\n",
       "Another engineering discipline (such as civil, electrical, mechanical, etc.)       9.354195\n",
       "Information systems, information technology, or system administration              7.983168\n",
       "A natural science (such as biology, chemistry, physics, etc.)                      4.316561\n",
       "Mathematics or statistics                                                          3.627097\n",
       "Web development or web design                                                      3.502637\n",
       "A business discipline (such as accounting, finance, marketing, etc.)               2.700567\n",
       "A humanities discipline (such as literature, history, philosophy, etc.)            1.969616\n",
       "A social science (such as anthropology, psychology, political science, etc.)       1.821450\n",
       "Fine arts or performing arts (such as graphic design, music, studio art, etc.)     1.412513\n",
       "I never declared a major                                                           0.885043\n",
       "A health science (such as nursing, pharmacy, radiology, etc.)                      0.487959\n",
       "Name: UndergradMajor, dtype: float64"
      ]
     },
     "execution_count": 42,
     "metadata": {},
     "output_type": "execute_result"
    }
   ],
   "source": [
    "survey_df.UndergradMajor.value_counts()* 100 / survey_df.UndergradMajor.count()"
   ]
  },
  {
   "cell_type": "code",
   "execution_count": 43,
   "id": "9edaedd1",
   "metadata": {},
   "outputs": [
    {
     "data": {
      "text/plain": [
       "'What was your primary field of study?'"
      ]
     },
     "execution_count": 43,
     "metadata": {},
     "output_type": "execute_result"
    }
   ],
   "source": [
    "schema.UndergradMajor"
   ]
  },
  {
   "cell_type": "code",
   "execution_count": 44,
   "id": "ecacb876",
   "metadata": {},
   "outputs": [
    {
     "name": "stderr",
     "output_type": "stream",
     "text": [
      "C:\\Users\\AZUS\\anaconda3\\lib\\site-packages\\seaborn\\_decorators.py:36: FutureWarning: Pass the following variables as keyword args: x, y. From version 0.12, the only valid positional argument will be `data`, and passing other arguments without an explicit keyword will result in an error or misinterpretation.\n",
      "  warnings.warn(\n"
     ]
    },
    {
     "data": {
      "image/png": "[encoded data removed]",
      "text/plain": [
       "<Figure size 720x576 with 1 Axes>"
      ]
     },
     "metadata": {
      "needs_background": "light"
     },
     "output_type": "display_data"
    }
   ],
   "source": [
    "plt.figure(figsize=(10, 8))\n",
    "undergrad_pct  = survey_df.UndergradMajor.value_counts()* 100 / survey_df.UndergradMajor.count()\n",
    "sns.barplot(undergrad_pct, undergrad_pct.index)\n",
    "\n",
    "plt.title(schema.UndergradMajor)\n",
    "plt.ylabel(None);\n",
    "plt.xlabel('Percentage');"
   ]
  },
  {
   "cell_type": "markdown",
   "id": "c3822d6c",
   "metadata": {},
   "source": [
    "#\n",
    "It turns out that 40% of programmers holding a college degree have a field of study other than\n",
    "computer science- which is very encouraging. This sems to suggest that while college education \n",
    "is helpful in general, you do not need to pursue a major in computer science to become a \n",
    "successful programmer"
   ]
  },
  {
   "cell_type": "markdown",
   "id": "33a0826a",
   "metadata": {},
   "source": [
    "## Employment\n",
    "Freelancing or contract work is a common choice among programmer, so it would be interesting to \n",
    "compare the braekdown between full time, part time & freelance work. "
   ]
  },
  {
   "cell_type": "code",
   "execution_count": null,
   "id": "7d45bdd5",
   "metadata": {},
   "outputs": [],
   "source": [
    "## visualization of data from Employment column"
   ]
  },
  {
   "cell_type": "code",
   "execution_count": 45,
   "id": "2abbe7bc",
   "metadata": {},
   "outputs": [
    {
     "data": {
      "text/plain": [
       "'Which of the following best describes your current employment status?'"
      ]
     },
     "execution_count": 45,
     "metadata": {},
     "output_type": "execute_result"
    }
   ],
   "source": [
    "schema.Employment"
   ]
  },
  {
   "cell_type": "code",
   "execution_count": 46,
   "id": "8709a903",
   "metadata": {},
   "outputs": [
    {
     "data": {
      "text/plain": [
       "Text(0.5, 0, 'Percentage')"
      ]
     },
     "execution_count": 46,
     "metadata": {},
     "output_type": "execute_result"
    },
    {
     "data": {
      "image/png": "[encoded data removed]",
      "text/plain": [
       "<Figure size 648x360 with 1 Axes>"
      ]
     },
     "metadata": {
      "needs_background": "light"
     },
     "output_type": "display_data"
    }
   ],
   "source": [
    "(survey_df.Employment.value_counts(normalize=True, ascending=True)*100).plot(kind='barh', color='g')\n",
    "plt.title(schema.Employment)\n",
    "plt.xlabel('Percentage')"
   ]
  },
  {
   "cell_type": "markdown",
   "id": "4b75ab5a",
   "metadata": {},
   "source": [
    "# \n",
    "It appears that close to 10% of respondents are freelancers"
   ]
  },
  {
   "cell_type": "markdown",
   "id": "f5b679ba",
   "metadata": {},
   "source": [
    "## Asking and Answering Questions\n",
    "We've already gained several insights about the respondents and the programming community in\n",
    "general, simply by exploring individual columns of the dataset. Let's ask some specific questions,\n",
    "and try to answer them using data frame operations and interesting visualizatio"
   ]
  },
  {
   "cell_type": "markdown",
   "id": "90798cc5",
   "metadata": {},
   "source": [
    "### Q: What are the most common languages used by developers older than 35?\n",
    "To answer this we can use the Age column \n"
   ]
  },
  {
   "cell_type": "code",
   "execution_count": 52,
   "id": "beb20667",
   "metadata": {},
   "outputs": [
    {
     "data": {
      "text/html": [
       "<div>\n",
       "<style scoped>\n",
       "    .dataframe tbody tr th:only-of-type {\n",
       "        vertical-align: middle;\n",
       "    }\n",
       "\n",
       "    .dataframe tbody tr th {\n",
       "        vertical-align: top;\n",
       "    }\n",
       "\n",
       "    .dataframe thead th {\n",
       "        text-align: right;\n",
       "    }\n",
       "</style>\n",
       "<table border=\"1\" class=\"dataframe\">\n",
       "  <thead>\n",
       "    <tr style=\"text-align: right;\">\n",
       "      <th></th>\n",
       "      <th>Country</th>\n",
       "      <th>Age</th>\n",
       "      <th>Gender</th>\n",
       "      <th>EdLevel</th>\n",
       "      <th>UndergradMajor</th>\n",
       "      <th>Hobbyist</th>\n",
       "      <th>Age1stCode</th>\n",
       "      <th>YearsCode</th>\n",
       "      <th>YearsCodePro</th>\n",
       "      <th>LanguageWorkedWith</th>\n",
       "      <th>LanguageDesireNextYear</th>\n",
       "      <th>NEWLearn</th>\n",
       "      <th>NEWStuck</th>\n",
       "      <th>Employment</th>\n",
       "      <th>DevType</th>\n",
       "      <th>WorkWeekHrs</th>\n",
       "      <th>JobSat</th>\n",
       "      <th>JobFactors</th>\n",
       "      <th>NEWOvertime</th>\n",
       "      <th>NEWEdImpt</th>\n",
       "    </tr>\n",
       "  </thead>\n",
       "  <tbody>\n",
       "    <tr>\n",
       "      <th>7</th>\n",
       "      <td>United States</td>\n",
       "      <td>36.0</td>\n",
       "      <td>Man</td>\n",
       "      <td>Bachelor’s degree (B.A., B.S., B.Eng., etc.)</td>\n",
       "      <td>Computer science, computer engineering, or sof...</td>\n",
       "      <td>Yes</td>\n",
       "      <td>12.0</td>\n",
       "      <td>17.0</td>\n",
       "      <td>13.0</td>\n",
       "      <td>Python;SQL</td>\n",
       "      <td>JavaScript</td>\n",
       "      <td>Once a year</td>\n",
       "      <td>Play games;Call a coworker or friend;Visit Sta...</td>\n",
       "      <td>Employed full-time</td>\n",
       "      <td>Developer, back-end;Developer, desktop or ente...</td>\n",
       "      <td>39.0</td>\n",
       "      <td>Slightly dissatisfied</td>\n",
       "      <td>Remote work options;Opportunities for professi...</td>\n",
       "      <td>Occasionally: 1-2 days per quarter but less th...</td>\n",
       "      <td>Not at all important/not necessary</td>\n",
       "    </tr>\n",
       "    <tr>\n",
       "      <th>11</th>\n",
       "      <td>Spain</td>\n",
       "      <td>49.0</td>\n",
       "      <td>Man</td>\n",
       "      <td>Some college/university study without earning ...</td>\n",
       "      <td>Mathematics or statistics</td>\n",
       "      <td>No</td>\n",
       "      <td>42.0</td>\n",
       "      <td>7.0</td>\n",
       "      <td>7.0</td>\n",
       "      <td>HTML/CSS;JavaScript</td>\n",
       "      <td>HTML/CSS;JavaScript</td>\n",
       "      <td>Once every few years</td>\n",
       "      <td>Visit Stack Overflow</td>\n",
       "      <td>Employed full-time</td>\n",
       "      <td>Designer;Developer, front-end</td>\n",
       "      <td>40.0</td>\n",
       "      <td>Very dissatisfied</td>\n",
       "      <td>Remote work options;Office environment or comp...</td>\n",
       "      <td>Rarely: 1-2 days per year or less</td>\n",
       "      <td>Somewhat important</td>\n",
       "    </tr>\n",
       "    <tr>\n",
       "      <th>12</th>\n",
       "      <td>Netherlands</td>\n",
       "      <td>53.0</td>\n",
       "      <td>Man</td>\n",
       "      <td>Secondary school (e.g. American high school, G...</td>\n",
       "      <td>NaN</td>\n",
       "      <td>Yes</td>\n",
       "      <td>14.0</td>\n",
       "      <td>35.0</td>\n",
       "      <td>20.0</td>\n",
       "      <td>C;JavaScript;Python</td>\n",
       "      <td>Python</td>\n",
       "      <td>Once every few years</td>\n",
       "      <td>Call a coworker or friend;Go for a walk or oth...</td>\n",
       "      <td>Employed full-time</td>\n",
       "      <td>Designer;Developer, back-end</td>\n",
       "      <td>36.0</td>\n",
       "      <td>Very satisfied</td>\n",
       "      <td>Industry that I’d be working in;Financial perf...</td>\n",
       "      <td>Rarely: 1-2 days per year or less</td>\n",
       "      <td>Not at all important/not necessary</td>\n",
       "    </tr>\n",
       "    <tr>\n",
       "      <th>15</th>\n",
       "      <td>United Kingdom</td>\n",
       "      <td>45.0</td>\n",
       "      <td>Man</td>\n",
       "      <td>Bachelor’s degree (B.A., B.S., B.Eng., etc.)</td>\n",
       "      <td>Computer science, computer engineering, or sof...</td>\n",
       "      <td>Yes</td>\n",
       "      <td>8.0</td>\n",
       "      <td>37.0</td>\n",
       "      <td>23.0</td>\n",
       "      <td>Bash/Shell/PowerShell;HTML/CSS;Java;JavaScript...</td>\n",
       "      <td>Go</td>\n",
       "      <td>Once a year</td>\n",
       "      <td>Visit Stack Overflow;Go for a walk or other ph...</td>\n",
       "      <td>Independent contractor, freelancer, or self-em...</td>\n",
       "      <td>Database administrator;Developer, back-end;Dev...</td>\n",
       "      <td>50.0</td>\n",
       "      <td>Very satisfied</td>\n",
       "      <td>Industry that I’d be working in;Diversity of t...</td>\n",
       "      <td>Often: 1-2 days per week or more</td>\n",
       "      <td>Fairly important</td>\n",
       "    </tr>\n",
       "    <tr>\n",
       "      <th>19</th>\n",
       "      <td>Spain</td>\n",
       "      <td>40.0</td>\n",
       "      <td>Man</td>\n",
       "      <td>Bachelor’s degree (B.A., B.S., B.Eng., etc.)</td>\n",
       "      <td>Another engineering discipline (such as civil,...</td>\n",
       "      <td>Yes</td>\n",
       "      <td>18.0</td>\n",
       "      <td>22.0</td>\n",
       "      <td>17.0</td>\n",
       "      <td>Java;JavaScript;SQL</td>\n",
       "      <td>Go</td>\n",
       "      <td>Once every few years</td>\n",
       "      <td>Meditate;Call a coworker or friend;Go for a wa...</td>\n",
       "      <td>Employed full-time</td>\n",
       "      <td>Developer, desktop or enterprise applications</td>\n",
       "      <td>50.0</td>\n",
       "      <td>Neither satisfied nor dissatisfied</td>\n",
       "      <td>NaN</td>\n",
       "      <td>Often: 1-2 days per week or more</td>\n",
       "      <td>Very important</td>\n",
       "    </tr>\n",
       "    <tr>\n",
       "      <th>...</th>\n",
       "      <td>...</td>\n",
       "      <td>...</td>\n",
       "      <td>...</td>\n",
       "      <td>...</td>\n",
       "      <td>...</td>\n",
       "      <td>...</td>\n",
       "      <td>...</td>\n",
       "      <td>...</td>\n",
       "      <td>...</td>\n",
       "      <td>...</td>\n",
       "      <td>...</td>\n",
       "      <td>...</td>\n",
       "      <td>...</td>\n",
       "      <td>...</td>\n",
       "      <td>...</td>\n",
       "      <td>...</td>\n",
       "      <td>...</td>\n",
       "      <td>...</td>\n",
       "      <td>...</td>\n",
       "      <td>...</td>\n",
       "    </tr>\n",
       "    <tr>\n",
       "      <th>64388</th>\n",
       "      <td>United States</td>\n",
       "      <td>56.0</td>\n",
       "      <td>Man</td>\n",
       "      <td>Associate degree (A.A., A.S., etc.)</td>\n",
       "      <td>A health science (such as nursing, pharmacy, r...</td>\n",
       "      <td>Yes</td>\n",
       "      <td>50.0</td>\n",
       "      <td>2.0</td>\n",
       "      <td>NaN</td>\n",
       "      <td>Bash/Shell/PowerShell;C++;HTML/CSS;JavaScript;...</td>\n",
       "      <td>NaN</td>\n",
       "      <td>Once a year</td>\n",
       "      <td>NaN</td>\n",
       "      <td>Retired</td>\n",
       "      <td>NaN</td>\n",
       "      <td>NaN</td>\n",
       "      <td>NaN</td>\n",
       "      <td>NaN</td>\n",
       "      <td>NaN</td>\n",
       "      <td>Very important</td>\n",
       "    </tr>\n",
       "    <tr>\n",
       "      <th>64392</th>\n",
       "      <td>Bangladesh</td>\n",
       "      <td>36.0</td>\n",
       "      <td>NaN</td>\n",
       "      <td>NaN</td>\n",
       "      <td>NaN</td>\n",
       "      <td>Yes</td>\n",
       "      <td>35.0</td>\n",
       "      <td>NaN</td>\n",
       "      <td>12.0</td>\n",
       "      <td>Assembly;Bash/Shell/PowerShell;C;C#;C++;Dart;G...</td>\n",
       "      <td>Assembly;Bash/Shell/PowerShell;C;C#;C++;Dart;G...</td>\n",
       "      <td>NaN</td>\n",
       "      <td>Meditate;Play games;Call a coworker or friend;...</td>\n",
       "      <td>Employed full-time</td>\n",
       "      <td>Academic researcher;Data or business analyst;D...</td>\n",
       "      <td>NaN</td>\n",
       "      <td>NaN</td>\n",
       "      <td>NaN</td>\n",
       "      <td>NaN</td>\n",
       "      <td>Critically important</td>\n",
       "    </tr>\n",
       "    <tr>\n",
       "      <th>64411</th>\n",
       "      <td>Belgium</td>\n",
       "      <td>44.0</td>\n",
       "      <td>Man</td>\n",
       "      <td>Master’s degree (M.A., M.S., M.Eng., MBA, etc.)</td>\n",
       "      <td>Another engineering discipline (such as civil,...</td>\n",
       "      <td>Yes</td>\n",
       "      <td>15.0</td>\n",
       "      <td>NaN</td>\n",
       "      <td>NaN</td>\n",
       "      <td>NaN</td>\n",
       "      <td>HTML/CSS;Java;Kotlin;Python;SQL</td>\n",
       "      <td>NaN</td>\n",
       "      <td>Visit another developer community (please name):</td>\n",
       "      <td>NaN</td>\n",
       "      <td>NaN</td>\n",
       "      <td>NaN</td>\n",
       "      <td>NaN</td>\n",
       "      <td>NaN</td>\n",
       "      <td>NaN</td>\n",
       "      <td>Fairly important</td>\n",
       "    </tr>\n",
       "    <tr>\n",
       "      <th>64430</th>\n",
       "      <td>Israel</td>\n",
       "      <td>38.0</td>\n",
       "      <td>Man</td>\n",
       "      <td>Master’s degree (M.A., M.S., M.Eng., MBA, etc.)</td>\n",
       "      <td>NaN</td>\n",
       "      <td>Yes</td>\n",
       "      <td>35.0</td>\n",
       "      <td>3.0</td>\n",
       "      <td>NaN</td>\n",
       "      <td>HTML/CSS;JavaScript;Python</td>\n",
       "      <td>Haskell;HTML/CSS;JavaScript;Python;Rust</td>\n",
       "      <td>Every few months</td>\n",
       "      <td>Meditate;Play games;Call a coworker or friend;...</td>\n",
       "      <td>Not employed, but looking for work</td>\n",
       "      <td>NaN</td>\n",
       "      <td>NaN</td>\n",
       "      <td>NaN</td>\n",
       "      <td>NaN</td>\n",
       "      <td>NaN</td>\n",
       "      <td>Fairly important</td>\n",
       "    </tr>\n",
       "    <tr>\n",
       "      <th>64433</th>\n",
       "      <td>France</td>\n",
       "      <td>64.0</td>\n",
       "      <td>Man</td>\n",
       "      <td>NaN</td>\n",
       "      <td>Information systems, information technology, o...</td>\n",
       "      <td>Yes</td>\n",
       "      <td>18.0</td>\n",
       "      <td>30.0</td>\n",
       "      <td>NaN</td>\n",
       "      <td>Bash/Shell/PowerShell;HTML/CSS;JavaScript;Perl...</td>\n",
       "      <td>Bash/Shell/PowerShell;Go;HTML/CSS;JavaScript;P...</td>\n",
       "      <td>Once a year</td>\n",
       "      <td>Visit Stack Overflow;Go for a walk or other ph...</td>\n",
       "      <td>Retired</td>\n",
       "      <td>NaN</td>\n",
       "      <td>NaN</td>\n",
       "      <td>NaN</td>\n",
       "      <td>NaN</td>\n",
       "      <td>NaN</td>\n",
       "      <td>Fairly important</td>\n",
       "    </tr>\n",
       "  </tbody>\n",
       "</table>\n",
       "<p>11157 rows × 20 columns</p>\n",
       "</div>"
      ],
      "text/plain": [
       "              Country   Age Gender  \\\n",
       "7       United States  36.0    Man   \n",
       "11              Spain  49.0    Man   \n",
       "12        Netherlands  53.0    Man   \n",
       "15     United Kingdom  45.0    Man   \n",
       "19              Spain  40.0    Man   \n",
       "...               ...   ...    ...   \n",
       "64388   United States  56.0    Man   \n",
       "64392      Bangladesh  36.0    NaN   \n",
       "64411         Belgium  44.0    Man   \n",
       "64430          Israel  38.0    Man   \n",
       "64433          France  64.0    Man   \n",
       "\n",
       "                                                 EdLevel  \\\n",
       "7           Bachelor’s degree (B.A., B.S., B.Eng., etc.)   \n",
       "11     Some college/university study without earning ...   \n",
       "12     Secondary school (e.g. American high school, G...   \n",
       "15          Bachelor’s degree (B.A., B.S., B.Eng., etc.)   \n",
       "19          Bachelor’s degree (B.A., B.S., B.Eng., etc.)   \n",
       "...                                                  ...   \n",
       "64388                Associate degree (A.A., A.S., etc.)   \n",
       "64392                                                NaN   \n",
       "64411    Master’s degree (M.A., M.S., M.Eng., MBA, etc.)   \n",
       "64430    Master’s degree (M.A., M.S., M.Eng., MBA, etc.)   \n",
       "64433                                                NaN   \n",
       "\n",
       "                                          UndergradMajor Hobbyist  Age1stCode  \\\n",
       "7      Computer science, computer engineering, or sof...      Yes        12.0   \n",
       "11                             Mathematics or statistics       No        42.0   \n",
       "12                                                   NaN      Yes        14.0   \n",
       "15     Computer science, computer engineering, or sof...      Yes         8.0   \n",
       "19     Another engineering discipline (such as civil,...      Yes        18.0   \n",
       "...                                                  ...      ...         ...   \n",
       "64388  A health science (such as nursing, pharmacy, r...      Yes        50.0   \n",
       "64392                                                NaN      Yes        35.0   \n",
       "64411  Another engineering discipline (such as civil,...      Yes        15.0   \n",
       "64430                                                NaN      Yes        35.0   \n",
       "64433  Information systems, information technology, o...      Yes        18.0   \n",
       "\n",
       "       YearsCode  YearsCodePro  \\\n",
       "7           17.0          13.0   \n",
       "11           7.0           7.0   \n",
       "12          35.0          20.0   \n",
       "15          37.0          23.0   \n",
       "19          22.0          17.0   \n",
       "...          ...           ...   \n",
       "64388        2.0           NaN   \n",
       "64392        NaN          12.0   \n",
       "64411        NaN           NaN   \n",
       "64430        3.0           NaN   \n",
       "64433       30.0           NaN   \n",
       "\n",
       "                                      LanguageWorkedWith  \\\n",
       "7                                             Python;SQL   \n",
       "11                                   HTML/CSS;JavaScript   \n",
       "12                                   C;JavaScript;Python   \n",
       "15     Bash/Shell/PowerShell;HTML/CSS;Java;JavaScript...   \n",
       "19                                   Java;JavaScript;SQL   \n",
       "...                                                  ...   \n",
       "64388  Bash/Shell/PowerShell;C++;HTML/CSS;JavaScript;...   \n",
       "64392  Assembly;Bash/Shell/PowerShell;C;C#;C++;Dart;G...   \n",
       "64411                                                NaN   \n",
       "64430                         HTML/CSS;JavaScript;Python   \n",
       "64433  Bash/Shell/PowerShell;HTML/CSS;JavaScript;Perl...   \n",
       "\n",
       "                                  LanguageDesireNextYear  \\\n",
       "7                                             JavaScript   \n",
       "11                                   HTML/CSS;JavaScript   \n",
       "12                                                Python   \n",
       "15                                                    Go   \n",
       "19                                                    Go   \n",
       "...                                                  ...   \n",
       "64388                                                NaN   \n",
       "64392  Assembly;Bash/Shell/PowerShell;C;C#;C++;Dart;G...   \n",
       "64411                    HTML/CSS;Java;Kotlin;Python;SQL   \n",
       "64430            Haskell;HTML/CSS;JavaScript;Python;Rust   \n",
       "64433  Bash/Shell/PowerShell;Go;HTML/CSS;JavaScript;P...   \n",
       "\n",
       "                   NEWLearn  \\\n",
       "7               Once a year   \n",
       "11     Once every few years   \n",
       "12     Once every few years   \n",
       "15              Once a year   \n",
       "19     Once every few years   \n",
       "...                     ...   \n",
       "64388           Once a year   \n",
       "64392                   NaN   \n",
       "64411                   NaN   \n",
       "64430      Every few months   \n",
       "64433           Once a year   \n",
       "\n",
       "                                                NEWStuck  \\\n",
       "7      Play games;Call a coworker or friend;Visit Sta...   \n",
       "11                                  Visit Stack Overflow   \n",
       "12     Call a coworker or friend;Go for a walk or oth...   \n",
       "15     Visit Stack Overflow;Go for a walk or other ph...   \n",
       "19     Meditate;Call a coworker or friend;Go for a wa...   \n",
       "...                                                  ...   \n",
       "64388                                                NaN   \n",
       "64392  Meditate;Play games;Call a coworker or friend;...   \n",
       "64411   Visit another developer community (please name):   \n",
       "64430  Meditate;Play games;Call a coworker or friend;...   \n",
       "64433  Visit Stack Overflow;Go for a walk or other ph...   \n",
       "\n",
       "                                              Employment  \\\n",
       "7                                     Employed full-time   \n",
       "11                                    Employed full-time   \n",
       "12                                    Employed full-time   \n",
       "15     Independent contractor, freelancer, or self-em...   \n",
       "19                                    Employed full-time   \n",
       "...                                                  ...   \n",
       "64388                                            Retired   \n",
       "64392                                 Employed full-time   \n",
       "64411                                                NaN   \n",
       "64430                 Not employed, but looking for work   \n",
       "64433                                            Retired   \n",
       "\n",
       "                                                 DevType  WorkWeekHrs  \\\n",
       "7      Developer, back-end;Developer, desktop or ente...         39.0   \n",
       "11                         Designer;Developer, front-end         40.0   \n",
       "12                          Designer;Developer, back-end         36.0   \n",
       "15     Database administrator;Developer, back-end;Dev...         50.0   \n",
       "19         Developer, desktop or enterprise applications         50.0   \n",
       "...                                                  ...          ...   \n",
       "64388                                                NaN          NaN   \n",
       "64392  Academic researcher;Data or business analyst;D...          NaN   \n",
       "64411                                                NaN          NaN   \n",
       "64430                                                NaN          NaN   \n",
       "64433                                                NaN          NaN   \n",
       "\n",
       "                                   JobSat  \\\n",
       "7                   Slightly dissatisfied   \n",
       "11                      Very dissatisfied   \n",
       "12                         Very satisfied   \n",
       "15                         Very satisfied   \n",
       "19     Neither satisfied nor dissatisfied   \n",
       "...                                   ...   \n",
       "64388                                 NaN   \n",
       "64392                                 NaN   \n",
       "64411                                 NaN   \n",
       "64430                                 NaN   \n",
       "64433                                 NaN   \n",
       "\n",
       "                                              JobFactors  \\\n",
       "7      Remote work options;Opportunities for professi...   \n",
       "11     Remote work options;Office environment or comp...   \n",
       "12     Industry that I’d be working in;Financial perf...   \n",
       "15     Industry that I’d be working in;Diversity of t...   \n",
       "19                                                   NaN   \n",
       "...                                                  ...   \n",
       "64388                                                NaN   \n",
       "64392                                                NaN   \n",
       "64411                                                NaN   \n",
       "64430                                                NaN   \n",
       "64433                                                NaN   \n",
       "\n",
       "                                             NEWOvertime  \\\n",
       "7      Occasionally: 1-2 days per quarter but less th...   \n",
       "11                     Rarely: 1-2 days per year or less   \n",
       "12                     Rarely: 1-2 days per year or less   \n",
       "15                      Often: 1-2 days per week or more   \n",
       "19                      Often: 1-2 days per week or more   \n",
       "...                                                  ...   \n",
       "64388                                                NaN   \n",
       "64392                                                NaN   \n",
       "64411                                                NaN   \n",
       "64430                                                NaN   \n",
       "64433                                                NaN   \n",
       "\n",
       "                                NEWEdImpt  \n",
       "7      Not at all important/not necessary  \n",
       "11                     Somewhat important  \n",
       "12     Not at all important/not necessary  \n",
       "15                       Fairly important  \n",
       "19                         Very important  \n",
       "...                                   ...  \n",
       "64388                      Very important  \n",
       "64392                Critically important  \n",
       "64411                    Fairly important  \n",
       "64430                    Fairly important  \n",
       "64433                    Fairly important  \n",
       "\n",
       "[11157 rows x 20 columns]"
      ]
     },
     "execution_count": 52,
     "metadata": {},
     "output_type": "execute_result"
    }
   ],
   "source": [
    "survey_df[survey_df.Age > 35]"
   ]
  },
  {
   "cell_type": "markdown",
   "id": "fdbb12a4",
   "metadata": {},
   "source": [
    "### In which country do developers work the highest number of hours per week? Consider  countries with more than 250 responses only\n"
   ]
  },
  {
   "cell_type": "code",
   "execution_count": 53,
   "id": "825f6ca1",
   "metadata": {},
   "outputs": [],
   "source": [
    "countries_df = survey_df.groupby('Country')[['WorkWeekHrs']].mean().sort_values('WorkWeekHrs', ascending=True)"
   ]
  },
  {
   "cell_type": "code",
   "execution_count": 54,
   "id": "55029fd9",
   "metadata": {},
   "outputs": [],
   "source": [
    "high_response_countries_df = countries_df.loc[survey_df.Country.value_counts() > 250].head(15)"
   ]
  },
  {
   "cell_type": "code",
   "execution_count": 55,
   "id": "078d3d5d",
   "metadata": {},
   "outputs": [
    {
     "data": {
      "text/html": [
       "<div>\n",
       "<style scoped>\n",
       "    .dataframe tbody tr th:only-of-type {\n",
       "        vertical-align: middle;\n",
       "    }\n",
       "\n",
       "    .dataframe tbody tr th {\n",
       "        vertical-align: top;\n",
       "    }\n",
       "\n",
       "    .dataframe thead th {\n",
       "        text-align: right;\n",
       "    }\n",
       "</style>\n",
       "<table border=\"1\" class=\"dataframe\">\n",
       "  <thead>\n",
       "    <tr style=\"text-align: right;\">\n",
       "      <th></th>\n",
       "      <th>WorkWeekHrs</th>\n",
       "    </tr>\n",
       "    <tr>\n",
       "      <th>Country</th>\n",
       "      <th></th>\n",
       "    </tr>\n",
       "  </thead>\n",
       "  <tbody>\n",
       "    <tr>\n",
       "      <th>Denmark</th>\n",
       "      <td>36.956679</td>\n",
       "    </tr>\n",
       "    <tr>\n",
       "      <th>Austria</th>\n",
       "      <td>37.167209</td>\n",
       "    </tr>\n",
       "    <tr>\n",
       "      <th>Philippines</th>\n",
       "      <td>37.315920</td>\n",
       "    </tr>\n",
       "    <tr>\n",
       "      <th>Nigeria</th>\n",
       "      <td>37.578125</td>\n",
       "    </tr>\n",
       "    <tr>\n",
       "      <th>Finland</th>\n",
       "      <td>37.836089</td>\n",
       "    </tr>\n",
       "    <tr>\n",
       "      <th>Argentina</th>\n",
       "      <td>37.911765</td>\n",
       "    </tr>\n",
       "    <tr>\n",
       "      <th>Portugal</th>\n",
       "      <td>38.381720</td>\n",
       "    </tr>\n",
       "    <tr>\n",
       "      <th>Brazil</th>\n",
       "      <td>38.409921</td>\n",
       "    </tr>\n",
       "    <tr>\n",
       "      <th>Kenya</th>\n",
       "      <td>38.728261</td>\n",
       "    </tr>\n",
       "    <tr>\n",
       "      <th>Poland</th>\n",
       "      <td>38.835183</td>\n",
       "    </tr>\n",
       "    <tr>\n",
       "      <th>Romania</th>\n",
       "      <td>38.868421</td>\n",
       "    </tr>\n",
       "    <tr>\n",
       "      <th>United Kingdom</th>\n",
       "      <td>38.927686</td>\n",
       "    </tr>\n",
       "    <tr>\n",
       "      <th>Indonesia</th>\n",
       "      <td>38.931579</td>\n",
       "    </tr>\n",
       "    <tr>\n",
       "      <th>France</th>\n",
       "      <td>38.949504</td>\n",
       "    </tr>\n",
       "    <tr>\n",
       "      <th>Colombia</th>\n",
       "      <td>39.043716</td>\n",
       "    </tr>\n",
       "  </tbody>\n",
       "</table>\n",
       "</div>"
      ],
      "text/plain": [
       "                WorkWeekHrs\n",
       "Country                    \n",
       "Denmark           36.956679\n",
       "Austria           37.167209\n",
       "Philippines       37.315920\n",
       "Nigeria           37.578125\n",
       "Finland           37.836089\n",
       "Argentina         37.911765\n",
       "Portugal          38.381720\n",
       "Brazil            38.409921\n",
       "Kenya             38.728261\n",
       "Poland            38.835183\n",
       "Romania           38.868421\n",
       "United Kingdom    38.927686\n",
       "Indonesia         38.931579\n",
       "France            38.949504\n",
       "Colombia          39.043716"
      ]
     },
     "execution_count": 55,
     "metadata": {},
     "output_type": "execute_result"
    }
   ],
   "source": [
    "high_response_countries_df"
   ]
  },
  {
   "cell_type": "markdown",
   "id": "473359be",
   "metadata": {},
   "source": [
    "# \n",
    "The Asian countries like Iran, Chaina & Isreal have the highest working hours, followed by the United\n",
    "States. However, there isn't too much variation overall and the average working hours seem to be \n",
    "around 40 hours per week"
   ]
  },
  {
   "cell_type": "markdown",
   "id": "77ee1345",
   "metadata": {},
   "source": [
    "### How important is it to start young to build a career in programming?\n",
    "Let's create scatter plot of Age vs YearsCodePro(years of coding experience) to answer \n",
    "this question"
   ]
  },
  {
   "cell_type": "code",
   "execution_count": 56,
   "id": "08bdcbdd",
   "metadata": {},
   "outputs": [
    {
     "data": {
      "text/plain": [
       "'NOT including education, how many years have you coded professionally (as a part of your work)?'"
      ]
     },
     "execution_count": 56,
     "metadata": {},
     "output_type": "execute_result"
    }
   ],
   "source": [
    "schema.YearsCodePro\n"
   ]
  },
  {
   "cell_type": "code",
   "execution_count": 59,
   "id": "fddb27fd",
   "metadata": {},
   "outputs": [
    {
     "name": "stderr",
     "output_type": "stream",
     "text": [
      "C:\\Users\\AZUS\\anaconda3\\lib\\site-packages\\seaborn\\_decorators.py:36: FutureWarning: Pass the following variables as keyword args: x, y. From version 0.12, the only valid positional argument will be `data`, and passing other arguments without an explicit keyword will result in an error or misinterpretation.\n",
      "  warnings.warn(\n"
     ]
    },
    {
     "data": {
      "image/png": "[encoded data removed]",
      "text/plain": [
       "<Figure size 648x360 with 1 Axes>"
      ]
     },
     "metadata": {
      "needs_background": "light"
     },
     "output_type": "display_data"
    }
   ],
   "source": [
    "sns.scatterplot('Age', 'YearsCodePro', hue='Hobbyist', data=survey_df)\n",
    "plt.xlabel(\"Age\")\n",
    "plt.ylabel('Years of professional coding experience');"
   ]
  },
  {
   "cell_type": "markdown",
   "id": "636f6aea",
   "metadata": {},
   "source": [
    "# \n",
    "You can see all over the graph, which seems to indicate that you can start programming\n",
    "professionally at any age. Also, many people who have been coding for several decades \n",
    "professionally also seem to enjoy it as a hobby.\n",
    "\n",
    "We can also view the distribution of Age1stCode column to see when the respondents tried \n",
    "pogramming for the very first time"
   ]
  },
  {
   "cell_type": "code",
   "execution_count": 60,
   "id": "9038944a",
   "metadata": {},
   "outputs": [
    {
     "name": "stderr",
     "output_type": "stream",
     "text": [
      "C:\\Users\\AZUS\\anaconda3\\lib\\site-packages\\seaborn\\distributions.py:2619: FutureWarning: `distplot` is a deprecated function and will be removed in a future version. Please adapt your code to use either `displot` (a figure-level function with similar flexibility) or `histplot` (an axes-level function for histograms).\n",
      "  warnings.warn(msg, FutureWarning)\n"
     ]
    },
    {
     "data": {
      "image/png": "[encoded data removed]",
      "text/plain": [
       "<Figure size 648x360 with 1 Axes>"
      ]
     },
     "metadata": {
      "needs_background": "light"
     },
     "output_type": "display_data"
    }
   ],
   "source": [
    "plt.title(schema.Age1stCode)\n",
    "sns.distplot(survey_df.Age1stCode);"
   ]
  },
  {
   "cell_type": "markdown",
   "id": "e45c5d21",
   "metadata": {},
   "source": [
    "# \n",
    "As you might expect, most people seem to have some exposure to programming before the age of 40, \n",
    "but there are people of all ages and walks of life who are learning how to code"
   ]
  },
  {
   "cell_type": "markdown",
   "id": "996a5043",
   "metadata": {},
   "source": [
    "## Inferences and Conclusions\n",
    "\n",
    "We,ve drawn many interesting inferences from the survey, here's a summary of the few of them:\n",
    "\n",
    "* Based on the demographics of the survey respondents, we can infer that the survey is somewhat representative of the overall programming community, although it definitely has fewer responses from programmers in non-English-speaking countries and from women and non-binary genders \n",
    "* The programming communnity is not as diverse as it can be, although things are improving, we should take more to support & encourage memebers of underrepresented communities-whether it is in term of age, country, race, gender and otherwise\n",
    "* Most programmers hold a college degree, although a fairly large percentage did not have computer science as their major in college, so a computer science degree is not compulsory for learning to code or building a career in programming\n",
    "* A significant percentage of programmers either work part time or as freelancers, and this can be a great way to break into the field, especially when you are justing getting started.\n",
    "* You can learn and start programming professionally at any age, and you're likely to have a long and fulfilling career if you also enjoy programming as a hobby"
   ]
  },
  {
   "cell_type": "code",
   "execution_count": null,
   "id": "e4362625",
   "metadata": {},
   "outputs": [],
   "source": []
  }
 ],
 "metadata": {
  "kernelspec": {
   "display_name": "Python 3 (ipykernel)",
   "language": "python",
   "name": "python3"
  },
  "language_info": {
   "codemirror_mode": {
    "name": "ipython",
    "version": 3
   },
   "file_extension": ".py",
   "mimetype": "text/x-python",
   "name": "python",
   "nbconvert_exporter": "python",
   "pygments_lexer": "ipython3",
   "version": "3.9.12"
  }
 },
 "nbformat": 4,
 "nbformat_minor": 5
}
